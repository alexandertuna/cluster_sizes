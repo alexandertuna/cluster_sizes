{
 "cells": [
  {
   "cell_type": "code",
   "execution_count": null,
   "id": "32cb5935-fb75-4879-987a-1fef46c4d827",
   "metadata": {},
   "outputs": [],
   "source": [
    "import math\n",
    "import uproot\n",
    "from pathlib import Path\n",
    "import awkward as ak\n",
    "import numpy as np\n",
    "import matplotlib as mpl\n",
    "import matplotlib.pyplot as plt\n",
    "import tqdm"
   ]
  },
  {
   "cell_type": "markdown",
   "id": "d2c5e02e-2934-4704-a52e-aa91639fcfbf",
   "metadata": {},
   "source": [
    "## Getting the file and tree"
   ]
  },
  {
   "cell_type": "code",
   "execution_count": null,
   "id": "dee76626-7617-4b1d-a4d9-e22f5e187a25",
   "metadata": {},
   "outputs": [],
   "source": [
    "# fname = Path(\"/Users/alexandertuna/Downloads/cms/trackingNtuple.root\")\n",
    "fname = Path(\"/Users/alexandertuna/Downloads/cms/lst_playing/data/trackingNtuple.2025_03_15_03h02m56s.root\")\n",
    "if not fname.exists():\n",
    "    raise Exception(\"shit\")"
   ]
  },
  {
   "cell_type": "code",
   "execution_count": null,
   "id": "2866dd23-be58-4ace-a351-571d9180565b",
   "metadata": {},
   "outputs": [],
   "source": [
    "file = uproot.open(f\"{fname}\")\n",
    "print(file.keys())"
   ]
  },
  {
   "cell_type": "code",
   "execution_count": null,
   "id": "16e848a8-a106-45b8-b140-6297b7289a62",
   "metadata": {},
   "outputs": [],
   "source": [
    "tree = uproot.open(f\"{fname}:trackingNtuple/tree\")\n",
    "print(tree)"
   ]
  },
  {
   "cell_type": "code",
   "execution_count": null,
   "id": "19880872-5e0f-4692-a96a-7393e183b07b",
   "metadata": {},
   "outputs": [],
   "source": [
    "def get_prefixes(col):\n",
    "    return sorted(list(set([obj.split(\"_\")[0] for obj in col])))\n",
    "print(get_prefixes(tree.keys()))"
   ]
  },
  {
   "cell_type": "markdown",
   "id": "d1ea15f8-9112-4de1-89b8-0e92c9caf10f",
   "metadata": {},
   "source": [
    "## Getting branches into a data array"
   ]
  },
  {
   "cell_type": "code",
   "execution_count": null,
   "id": "d5d4a84a-ad6b-4fef-8419-026739a680f6",
   "metadata": {},
   "outputs": [],
   "source": [
    "print(tree.keys())"
   ]
  },
  {
   "cell_type": "code",
   "execution_count": null,
   "id": "93367784-6b4e-405f-996f-8e27f4d9d399",
   "metadata": {},
   "outputs": [],
   "source": [
    "data = tree.arrays([\n",
    "    'trk_pt', 'trk_eta', 'trk_phi',\n",
    "\n",
    "    'ph2_isBarrel', 'ph2_isLower', 'ph2_isUpper', 'ph2_isStack', \n",
    "    'ph2_order', 'ph2_ring', 'ph2_rod', 'ph2_detId', \n",
    "    'ph2_subdet', 'ph2_layer', 'ph2_side', 'ph2_module', \n",
    "    'ph2_moduleType', 'ph2_trkIdx', 'ph2_onTrk_x', 'ph2_onTrk_y', \n",
    "    'ph2_onTrk_z', 'ph2_onTrk_xx', 'ph2_onTrk_xy', 'ph2_onTrk_yy', \n",
    "    'ph2_onTrk_yz', 'ph2_onTrk_zz', 'ph2_onTrk_zx', 'ph2_tcandIdx', \n",
    "    'ph2_seeIdx', 'ph2_simHitIdx', 'ph2_simType', 'ph2_x', 'ph2_y', \n",
    "    'ph2_z', 'ph2_xx', 'ph2_xy', 'ph2_yy', \n",
    "    'ph2_yz', 'ph2_zz', 'ph2_zx', 'ph2_radL', \n",
    "    'ph2_bbxi', 'ph2_usedMask', 'ph2_clustSize',\n",
    "\n",
    "    'simhit_x', 'simhit_y', 'simhit_z',\n",
    "    'simhit_px', 'simhit_py', 'simhit_pz',\n",
    "    'simhit_tof', 'simhit_particle', 'simhit_simTrkIdx', \n",
    "\n",
    "    'sim_event', 'sim_bunchCrossing', 'sim_pdgId',\n",
    "    'sim_genPdgIds', 'sim_isFromBHadron', \n",
    "    'sim_px', 'sim_py', 'sim_pz', \n",
    "    'sim_pt', 'sim_eta', 'sim_phi',\n",
    "    #'sim_pca_pt', 'sim_pca_eta', 'sim_pca_lambda', 'sim_pca_cotTheta', \n",
    "    #'sim_pca_phi', 'sim_pca_dxy', 'sim_pca_dz', 'sim_q', \n",
    "    #'sim_nValid', 'sim_nPixel', 'sim_nStrip', \n",
    "    #'sim_nLay', 'sim_nPixelLay', 'sim_n3DLay', \n",
    "    #'sim_nTrackerHits', 'sim_nRecoClusters', \n",
    "    #'sim_trkIdx', 'sim_trkShareFrac', 'sim_seedIdx', \n",
    "    'sim_parentVtxIdx', 'sim_decayVtxIdx', 'sim_simHitIdx',\n",
    "])\n",
    "data[\"simhit_pt\"] = np.sqrt(data.simhit_px**2 + data.simhit_py**2)\n",
    "data[\"simhit_costheta\"] = 0\n",
    "\n",
    "data[\"simhit_rt\"] = np.sqrt(data.simhit_x**2 + data.simhit_y**2)\n",
    "data[\"simhit_costheta\"] = ((data.simhit_x * data.simhit_px) + (data.simhit_y * data.simhit_py)) / (data.simhit_pt * data.simhit_rt)\n",
    "data[\"simhit_phi\"] = np.atan2(data.simhit_y, data.simhit_x)\n",
    "data[\"ph2_phi\"] = np.atan2(data.ph2_y, data.ph2_x)\n",
    "data[\"ph2_rt\"] = np.sqrt(data.ph2_x**2 + data.ph2_y**2)"
   ]
  },
  {
   "cell_type": "markdown",
   "id": "9966de9d-d791-4a68-8223-334b44ddc5be",
   "metadata": {},
   "source": [
    "## Coordinate conversions"
   ]
  },
  {
   "cell_type": "code",
   "execution_count": null,
   "id": "8b04e54e-02ce-4235-be7f-6496ae29f799",
   "metadata": {},
   "outputs": [],
   "source": [
    "def eta(x, y, z):\n",
    "    r_perp = np.sqrt(x**2 + y**2)\n",
    "    theta = np.atan2(r_perp, z)\n",
    "    return -np.log(np.tan(theta / 2.0))\n",
    "\n",
    "def phi(x, y):\n",
    "    return np.atan2(y, x)"
   ]
  },
  {
   "cell_type": "markdown",
   "id": "826d79c3-bb38-4a78-afa4-61f2abaf0ffa",
   "metadata": {},
   "source": [
    "## Test plot: simhit TOF"
   ]
  },
  {
   "cell_type": "code",
   "execution_count": null,
   "id": "49adf518-3606-4658-8b68-302907523828",
   "metadata": {},
   "outputs": [],
   "source": [
    "# bins = np.arange(-1, 1.02, 0.02)\n",
    "fig, axs = plt.subplots(ncols=2, figsize=(10, 4))\n",
    "for ax in axs:\n",
    "    ax.hist(ak.flatten(data.simhit_tof), bins=np.arange(-1, 35))\n",
    "    # ax.hist(ak.flatten(data.simhit_tof[data.simhit_pt > 0.6]), bins=np.arange(-1, 35))\n",
    "    #ax.set_xlabel(\"cos($\\\\theta$) of $p_{T, sim}$ and $x_{T, sim}$\")\n",
    "    #ax.set_ylabel(\"Hits (ph2_*)\")\n",
    "    #ax.set_title(\"Hits with associated sim track\")\n",
    "axs[1].semilogy();"
   ]
  },
  {
   "cell_type": "markdown",
   "id": "26a94ed5-8d48-44a6-a6da-6916156d9596",
   "metadata": {},
   "source": [
    "## Convincing myself the ph2-trk matching is legit"
   ]
  },
  {
   "cell_type": "code",
   "execution_count": null,
   "id": "428260f2-629b-4bb6-90dd-947384fd57fe",
   "metadata": {},
   "outputs": [],
   "source": [
    "# for each event\n",
    "#   for each hit\n",
    "#     print the eta, phi of the hit\n",
    "#     print the pt, eta, phi of matching tracks"
   ]
  },
  {
   "cell_type": "code",
   "execution_count": null,
   "id": "970e6b36-7743-49c2-9881-841dc83c50b1",
   "metadata": {},
   "outputs": [],
   "source": [
    "for event in range(2):\n",
    "\n",
    "    ph2_n = len(data.ph2_x[event])\n",
    "    print(\"\")\n",
    "    print(f\"Event {event} has {ph2_n} hits\")\n",
    "\n",
    "    for hit in range(ph2_n):\n",
    "\n",
    "        if hit > 20:\n",
    "            break\n",
    "\n",
    "        # ph2 eta,phi\n",
    "        ph2_eta = eta(data.ph2_x[event, hit], data.ph2_y[event, hit], data.ph2_z[event, hit])\n",
    "        ph2_phi = phi(data.ph2_x[event, hit], data.ph2_y[event, hit])\n",
    "\n",
    "        # trk matching\n",
    "        ph2_trk_n = len(data.ph2_trkIdx[event, hit])\n",
    "        for trk in range(ph2_trk_n):\n",
    "            trkIdx = data.ph2_trkIdx[event, hit, trk]\n",
    "            trk_pt = data.trk_pt[event, trkIdx]\n",
    "            trk_eta = data.trk_eta[event, trkIdx]\n",
    "            trk_phi = data.trk_phi[event, trkIdx]\n",
    "        if ph2_trk_n == 0:\n",
    "            msg = \"\"\n",
    "        elif ph2_trk_n == 1:\n",
    "            msg = f\": {trk_pt:4.1f}, {trk_eta:5.2f}, {trk_phi:5.2f}\"\n",
    "        else:\n",
    "            msg = f\"Whoa!!!\"\n",
    "\n",
    "        # announce\n",
    "        size = data.ph2_clustSize[event][hit]\n",
    "        print(f\"Hit has size {size} at {ph2_eta:5.2f},{ph2_phi:5.2f} matches {ph2_trk_n} tracks {msg}\")\n"
   ]
  },
  {
   "cell_type": "markdown",
   "id": "72ce5eea-b12d-488f-954e-3b7299fe5b0c",
   "metadata": {},
   "source": [
    "## Creating `ph2_pt` array with track-matching logic"
   ]
  },
  {
   "cell_type": "markdown",
   "id": "96d497e1-7765-4bf1-b9a4-9beb00559c8e",
   "metadata": {},
   "source": [
    "## Loop version"
   ]
  },
  {
   "cell_type": "code",
   "execution_count": null,
   "id": "207258f2-ddd0-4d35-aaf0-1c94e3822bb6",
   "metadata": {},
   "outputs": [],
   "source": [
    "ph2_pt_all = []\n",
    "ph2_ntrk_all = []\n",
    "\n",
    "nevent = len(data.ph2_x)\n",
    "\n",
    "for event in tqdm.tqdm(range(nevent)):\n",
    "    continue\n",
    "    \n",
    "    ph2_n = len(data.ph2_x[event])\n",
    "    ph2_pt = [0]*ph2_n\n",
    "    ph2_ntrk = [0]*ph2_n\n",
    "\n",
    "    for hit in range(ph2_n):\n",
    "\n",
    "        ph2_trk_n = len(data.ph2_trkIdx[event, hit])\n",
    "        if ph2_trk_n == 0:\n",
    "            continue\n",
    "\n",
    "        pts = [data.trk_pt[event, data.ph2_trkIdx[event, hit, trk]]\n",
    "               for trk in\n",
    "               range(ph2_trk_n)]\n",
    "\n",
    "        ph2_pt[hit] = max(pts)\n",
    "        ph2_ntrk[hit] = ph2_trk_n\n",
    "\n",
    "    ph2_pt_all.append( ph2_pt )\n",
    "    ph2_ntrk_all.append( ph2_ntrk )\n",
    "\n",
    "ph2_pt = ak.Array(ph2_pt_all)\n",
    "ph2_ntrk = ak.Array(ph2_ntrk_all)"
   ]
  },
  {
   "cell_type": "markdown",
   "id": "bd9c5450-d7cc-41ef-b688-dab3405fbc9d",
   "metadata": {},
   "source": [
    "## Semi-vectorized version"
   ]
  },
  {
   "cell_type": "code",
   "execution_count": null,
   "id": "7800b33c-d92c-4397-8f9a-cb78f01b4710",
   "metadata": {},
   "outputs": [],
   "source": [
    "vec_ph2_ntrk = ak.num(data.ph2_trkIdx, axis=-1)\n",
    "\n",
    "def fancy_index(data, index):\n",
    "    counts = ak.num(index, axis=-1)\n",
    "    flattened_idx = ak.flatten(index, axis=-1)\n",
    "    out_flat = data[flattened_idx]\n",
    "    out = ak.unflatten(out_flat, counts)\n",
    "    return out\n",
    "\n",
    "_pt = []\n",
    "for event in tqdm.tqdm(range(len(data.ph2_x))):\n",
    "    _pt.append( fancy_index(data.trk_pt[event], data.ph2_trkIdx[event]) )\n",
    "vec_ph2_pts = ak.Array(_pt)\n",
    "vec_ph2_pt = ak.fill_none(ak.max(vec_ph2_pts, axis=-1), 0)\n",
    "\n",
    "#print(ph2_pt.type)\n",
    "#print(vec_ph2_pt.type)\n",
    "\n",
    "#print(ak.array_equal(ph2_ntrk, vec_ph2_ntrk))\n",
    "#print(ak.array_equal(ph2_pt, vec_ph2_pt))"
   ]
  },
  {
   "cell_type": "markdown",
   "id": "414b8f22-5c80-439e-bb1a-cbd4bd2f6c48",
   "metadata": {},
   "source": [
    "## Quick test: indexing"
   ]
  },
  {
   "cell_type": "code",
   "execution_count": null,
   "id": "f15af887-1cef-4ce4-8271-ca56969c00d8",
   "metadata": {},
   "outputs": [],
   "source": [
    "pt = ak.Array([5, 6])\n",
    "idx = ak.Array([[0, 0, 0, 0],\n",
    "                [1, 1, 1],\n",
    "                [0, 1, 0]])\n",
    "_cts = ak.num(idx, axis=-1)\n",
    "_flt = ak.flatten(idx)\n",
    "_pts = pt[_flt]\n",
    "_unf = ak.unflatten(_pts, _cts)\n",
    "print(_unf)\n",
    "\n",
    "# pt[idx]"
   ]
  },
  {
   "cell_type": "markdown",
   "id": "ac4bf242-51cb-4389-8d11-058a70d85726",
   "metadata": {},
   "source": [
    "## Another indexing test"
   ]
  },
  {
   "cell_type": "code",
   "execution_count": null,
   "id": "0690bc82-5e2b-4b33-abb5-f3e547fc06f1",
   "metadata": {},
   "outputs": [],
   "source": [
    "def fancy_index(data, index):\n",
    "    counts = ak.num(index, axis=-1)\n",
    "    counts = ak.flatten(counts)\n",
    "    flattened_idx = ak.flatten(index, axis=-1)\n",
    "    out_flat = data[flattened_idx]\n",
    "    out = ak.unflatten(out_flat, counts, axis=-1)\n",
    "    return out\n",
    "\n",
    "print(data.sim_pt.type)\n",
    "print(data.simhit_simTrkIdx.type)\n",
    "print(data.ph2_simHitIdx.type)\n",
    "_ = data.sim_pt[data.simhit_simTrkIdx]\n",
    "_ = fancy_index(data.simhit_pt, data.ph2_simHitIdx)\n",
    "# _ = data.sim_pt[data.ph2_simHitIdx]"
   ]
  },
  {
   "cell_type": "code",
   "execution_count": null,
   "id": "e3cc412a-f28d-452e-abd8-d29052f78e57",
   "metadata": {},
   "outputs": [],
   "source": [
    "original = ak.Array([[1, 2, 3, 4], [], [5, 6, 7], [8, 9]])\n",
    "ak.unflatten(original, [2, 2, 1, 2, 1, 1], axis=-1).show()"
   ]
  },
  {
   "cell_type": "markdown",
   "id": "591e56ca-3cdc-42a7-8b06-f47168a0d08d",
   "metadata": {},
   "source": [
    "## Quick test: are simhit_p{x, y, z} branches filled?"
   ]
  },
  {
   "cell_type": "code",
   "execution_count": null,
   "id": "c251ec25-fa60-4f46-bf09-26aa8f2c5801",
   "metadata": {
    "scrolled": true
   },
   "outputs": [],
   "source": [
    "for event in range(3):\n",
    "    ph2_n = len(data.ph2_x[event])\n",
    "    print(f\"Event {event}\")\n",
    "    for i_hit, hit in enumerate(range(ph2_n)):\n",
    "        msg = f\"Hit {i_hit:02}: \"\n",
    "        msg += f\"ph2_x,y,z = (\"\n",
    "        msg += f\"{data.ph2_x[event, hit]:5.1f}, \"\n",
    "        msg += f\"{data.ph2_y[event, hit]:5.1f}, \"\n",
    "        msg += f\"{data.ph2_z[event, hit]:5.1f}). \"\n",
    "        for simhit in data.ph2_simHitIdx[event, hit]:\n",
    "            x, y, px, py = [\n",
    "                data.simhit_x[event, simhit],\n",
    "                data.simhit_y[event, simhit],\n",
    "                data.simhit_px[event, simhit],\n",
    "                data.simhit_py[event, simhit],\n",
    "            ]\n",
    "            position, momentum = np.array([x, y]), np.array([px, py])\n",
    "            costheta = np.dot(position, momentum) / (np.linalg.norm(position) * np.linalg.norm(momentum))\n",
    "            pt = np.sqrt(data.simhit_px[event, simhit]**2 + data.simhit_py[event, simhit]**2)\n",
    "            msg += f\"simhit_x,y,z = (\"\n",
    "            #msg += f\"{data.simhit_x[event, simhit]:5.1f}, \"\n",
    "            #msg += f\"{data.simhit_y[event, simhit]:5.1f}, \"\n",
    "            #msg += f\"{data.simhit_z[event, simhit]:5.1f}). \"\n",
    "            msg += f\"simhit_pt = {pt:5.1f}. \"\n",
    "            msg += f\"simhit_costheta = {costheta:.5f}. \"\n",
    "            msg += f\"simhit_costheta = {data.simhit_costheta[event, simhit]:.5f}. \"\n",
    "        # msg += f\"trk_pt = {data.ph2_pt[event, hit]:5.1f}\"\n",
    "        print(msg)\n",
    "        if hit > 10:\n",
    "            break\n",
    "    print(\"\")\n",
    "   "
   ]
  },
  {
   "cell_type": "markdown",
   "id": "240f0fa8-1875-4664-a9d6-1e34dc02948d",
   "metadata": {},
   "source": [
    "## Creating `ph2_pt` array with truth-matching logic"
   ]
  },
  {
   "cell_type": "code",
   "execution_count": null,
   "id": "948fd89a-6eed-462b-ac62-72b1364e507d",
   "metadata": {},
   "outputs": [],
   "source": [
    "def fancy_index(data, index):\n",
    "    counts = ak.num(index, axis=-1)\n",
    "    flattened_idx = ak.flatten(index, axis=-1)\n",
    "    out_flat = data[flattened_idx]\n",
    "    out = ak.unflatten(out_flat, counts)\n",
    "    return out\n",
    "\n",
    "_pt = []\n",
    "_costheta = []\n",
    "_phi = []\n",
    "for event in tqdm.tqdm(range(len(data.ph2_x))):\n",
    "    _pt.append( fancy_index(data.simhit_pt[event], data.ph2_simHitIdx[event]) )\n",
    "    _phi.append( fancy_index(data.simhit_phi[event], data.ph2_simHitIdx[event]) )\n",
    "    _costheta.append( fancy_index(data.simhit_costheta[event], data.ph2_simHitIdx[event]) )\n",
    "\n",
    "print(\"Making a big array ...\")\n",
    "vec_ph2_pts = ak.Array(_pt)\n",
    "print(\"Making a big array ...\")\n",
    "vec_ph2_phis = ak.Array(_phi)\n",
    "print(\"Making a big array ...\")\n",
    "vec_ph2_costheta = ak.Array(_costheta)\n",
    "\n",
    "print(\"Collapsing the simhit dim ...\")\n",
    "vec2_ph2_pt = ak.fill_none(ak.max(vec_ph2_pts, axis=-1), 0)\n",
    "vec2_ph2_phi = ak.fill_none(ak.max(vec_ph2_phis, axis=-1), 0)\n",
    "vec2_ph2_costheta = ak.fill_none(ak.max(vec_ph2_costheta, axis=-1), 0)\n",
    "vec2_ph2_ntrk = ak.num(data.ph2_simHitIdx, axis=-1)\n",
    "\n",
    "#print(ph2_pt.type)\n",
    "print(vec_ph2_pt.type)\n",
    "print(vec2_ph2_pt.type)\n",
    "\n",
    "#print(ak.array_equal(ph2_ntrk, vec_ph2_ntrk))\n",
    "#print(ak.array_equal(ph2_pt, vec_ph2_pt))"
   ]
  },
  {
   "cell_type": "code",
   "execution_count": null,
   "id": "8cef98dc-23ef-4675-bae4-c4e57f919fb7",
   "metadata": {},
   "outputs": [],
   "source": [
    "print(vec_ph2_pt[2])\n",
    "print(vec2_ph2_pt[2])"
   ]
  },
  {
   "cell_type": "markdown",
   "id": "8a81978e-309f-48f6-bd1f-9e369898a2d0",
   "metadata": {},
   "source": [
    "## Vectorized version"
   ]
  },
  {
   "cell_type": "code",
   "execution_count": null,
   "id": "d1ac428a-c742-4fc6-88b9-786cd0c4b55e",
   "metadata": {},
   "outputs": [],
   "source": [
    "def fancy_index(data, index):\n",
    "    counts = ak.num(index, axis=-1)\n",
    "    counts = ak.flatten(counts)\n",
    "    flattened_idx = ak.flatten(index, axis=-1)\n",
    "    out_flat = data[flattened_idx]\n",
    "    out = ak.unflatten(out_flat, counts, axis=-1)\n",
    "    return out * np.float64(1.0)\n",
    "\n",
    "_tmp = fancy_index(data.simhit_pt, data.ph2_simHitIdx)\n",
    "\n",
    "print(vec_ph2_pts)\n",
    "print(_tmp)\n",
    "print(vec_ph2_pts.type)\n",
    "print(_tmp.type)\n",
    "print(ak.array_equal(vec_ph2_pts, _tmp))\n",
    "print(ak.almost_equal(vec_ph2_pts, _tmp))\n",
    "def tuna_equal(a, b):\n",
    "    return ak.flatten(a, axis=None) == ak.flatten(b, axis=None)\n",
    "print(tuna_equal(vec_ph2_pts, _tmp))\n",
    "xxx = tuna_equal(vec_ph2_pts, _tmp)\n",
    "print(ak.sum(xxx), len(xxx))\n"
   ]
  },
  {
   "cell_type": "markdown",
   "id": "07c6172a-b359-4ffe-b69f-554ec01d8df8",
   "metadata": {},
   "source": [
    "## Assigning values for ph2_pt and ph2_ntrk"
   ]
  },
  {
   "cell_type": "code",
   "execution_count": null,
   "id": "6fee18fb-e346-4fcd-b6ff-a59d317be10b",
   "metadata": {},
   "outputs": [],
   "source": [
    "data[\"ph2_pt\"] = vec2_ph2_pt\n",
    "data[\"ph2_simphi\"] = vec2_ph2_phi\n",
    "data[\"ph2_costheta\"] = vec2_ph2_costheta\n",
    "data[\"ph2_nsim\"] = vec2_ph2_ntrk"
   ]
  },
  {
   "cell_type": "markdown",
   "id": "1d73bfe6-5ef0-4677-bc9c-2ecfc9fb0b73",
   "metadata": {},
   "source": [
    "## Making ph2_dphi"
   ]
  },
  {
   "cell_type": "code",
   "execution_count": null,
   "id": "1f86cb58-f016-4e7f-b35f-d586e8d7791e",
   "metadata": {},
   "outputs": [],
   "source": [
    "def dphi(a, b):\n",
    "    return np.abs(((a - b) + np.pi) % (2 * np.pi) - np.pi)\n",
    "    #dab = (a - b) / (2 * np.pi)\n",
    "    #mask = dab > np.pi\n",
    "    #dab[mask] = 2 * np.pi - dab[mask]\n",
    "    #return dab\n",
    "\n",
    "data[\"ph2_dphi\"] = dphi(data.ph2_phi, data.ph2_simphi)\n",
    "\n",
    "print(data.ph2_phi)\n",
    "print(data.ph2_simphi)\n",
    "print(data.ph2_dphi)"
   ]
  },
  {
   "cell_type": "markdown",
   "id": "26608809-bb56-41b3-9229-c348e1312ab6",
   "metadata": {},
   "source": [
    "## Plotting ph2_pt, ph2_costheta, ph2_dphi, and ph2_nsim"
   ]
  },
  {
   "cell_type": "code",
   "execution_count": null,
   "id": "a9204115-4d78-4bcc-8c3c-74ad7ea25aa4",
   "metadata": {},
   "outputs": [],
   "source": [
    "bins = np.arange(-0.5, 9.5, 1)\n",
    "fig, axs = plt.subplots(ncols=2, figsize=(10, 4))\n",
    "for ax in axs:\n",
    "    ax.hist(ak.flatten(data.ph2_nsim), bins=bins)\n",
    "    ax.set_xlabel(\"N(sim. hit)\")\n",
    "    ax.set_ylabel(\"Hits (ph2_*)\")\n",
    "axs[1].semilogy();"
   ]
  },
  {
   "cell_type": "code",
   "execution_count": null,
   "id": "81423057-f4ad-4399-bcb4-edc764967c45",
   "metadata": {},
   "outputs": [],
   "source": [
    "bins = np.arange(-1, 1.02, 0.02)\n",
    "fig, axs = plt.subplots(ncols=2, figsize=(10, 4))\n",
    "for ax in axs:\n",
    "    ax.hist(ak.flatten(data.ph2_costheta), bins=bins)\n",
    "    ax.set_xlabel(\"cos($\\\\theta$) of $p_{T, sim}$ and $x_{T, sim}$\")\n",
    "    ax.set_ylabel(\"Hits (ph2_*)\")\n",
    "    ax.set_title(\"All hits\")\n",
    "axs[1].semilogy();"
   ]
  },
  {
   "cell_type": "code",
   "execution_count": null,
   "id": "39b6f4c0-2cd6-488c-9eff-1a420f689fb9",
   "metadata": {},
   "outputs": [],
   "source": [
    "bins = np.arange(-1, 1.02, 0.02)\n",
    "fig, axs = plt.subplots(ncols=2, figsize=(10, 4))\n",
    "for ax in axs:\n",
    "    ax.hist(ak.flatten(data.ph2_costheta[data.ph2_pt > 0]), bins=bins)\n",
    "    ax.set_xlabel(\"cos($\\\\phi$) of $p_{T, sim}$ and $x_{T, sim}$\")\n",
    "    ax.set_ylabel(\"Hits (ph2_*)\")\n",
    "    ax.set_title(\"Hits with associated sim track\")\n",
    "axs[1].semilogy();"
   ]
  },
  {
   "cell_type": "code",
   "execution_count": null,
   "id": "6adf063b-e567-4ed3-b962-7872d2ffb0ba",
   "metadata": {},
   "outputs": [],
   "source": [
    "bins = np.arange(0, 3.2, 0.05)\n",
    "fig, axs = plt.subplots(ncols=2, figsize=(10, 4))\n",
    "for ax in axs:\n",
    "    # ax.hist(ak.flatten(data.ph2_dphi[ph2_pt > 0.6]), bins=bins)\n",
    "    ax.hist(ak.flatten(data.ph2_dphi), bins=bins)\n",
    "    ax.set_xlabel(\"dphi(hit, sim. hit) [rad]\")\n",
    "    ax.set_ylabel(\"Hits (ph2_*)\")\n",
    "    # ax.set_title(\"Hits with associated sim track\")\n",
    "    ax.set_title(\"All hits\")\n",
    "axs[1].semilogy();"
   ]
  },
  {
   "cell_type": "code",
   "execution_count": null,
   "id": "496b0f59-592c-4c62-b560-60c067d35f2a",
   "metadata": {},
   "outputs": [],
   "source": [
    "bins = np.arange(0, 3.2, 0.05)\n",
    "mask = (data.ph2_pt > 0.6)\n",
    "fig, axs = plt.subplots(ncols=2, figsize=(10, 4))\n",
    "for ax in axs:\n",
    "    ax.hist(ak.flatten(data.ph2_dphi[mask]), bins=bins)\n",
    "    ax.set_xlabel(\"dphi(hit, sim. hit) [rad]\")\n",
    "    ax.set_ylabel(\"Hits (ph2_*)\")\n",
    "    ax.set_title(\"Hits with associated sim track\")\n",
    "axs[1].semilogy();"
   ]
  },
  {
   "cell_type": "code",
   "execution_count": null,
   "id": "cf800e1e-a197-4fe7-bc80-6c8aa9ef4d6f",
   "metadata": {},
   "outputs": [],
   "source": [
    "bins = np.arange(-0.001, 0.25, 0.001)\n",
    "fig, axs = plt.subplots(ncols=2, figsize=(10, 4))\n",
    "mask = (data.ph2_pt > 0.6)\n",
    "for ax in axs:\n",
    "    ax.hist(ak.flatten(data.ph2_rt[mask] * data.ph2_dphi[mask]), bins=bins)\n",
    "    ax.set_xlabel(\"r * dphi(hit, sim. hit) [cm]\")\n",
    "    ax.set_ylabel(\"Hits (ph2_*)\")\n",
    "    ax.set_title(\"Hits with associated sim track\")\n",
    "axs[1].semilogy();"
   ]
  },
  {
   "cell_type": "code",
   "execution_count": null,
   "id": "26886a08-0ba1-4030-b38f-ebc26993e31f",
   "metadata": {},
   "outputs": [],
   "source": [
    "bins = np.arange(-0.001, 0.03, 0.0001)\n",
    "fig, axs = plt.subplots(ncols=2, figsize=(10, 4))\n",
    "mask = (data.ph2_pt > 0.6)\n",
    "for ax in axs:\n",
    "    ax.hist(ak.flatten(data.ph2_rt[mask] * data.ph2_dphi[mask]), bins=bins)\n",
    "    ax.set_xlabel(\"r * dphi(hit, sim. hit) [cm]\")\n",
    "    ax.set_ylabel(\"Hits (ph2_*)\")\n",
    "    ax.set_title(\"Hits with associated sim track\")\n",
    "axs[1].semilogy();"
   ]
  },
  {
   "cell_type": "code",
   "execution_count": null,
   "id": "139665df-7209-4d87-9e85-b4530db20cdf",
   "metadata": {},
   "outputs": [],
   "source": [
    "# bins = np.arange(-0.001, 0.25, 0.001)\n",
    "bins = [np.arange(-0.001, 0.5, 0.005),\n",
    "        np.arange(-0.5, 19.5, 1)]\n",
    "fig, axs = plt.subplots(ncols=2, figsize=(10, 4))\n",
    "mask = (data.ph2_pt > 0.6)\n",
    "for ax in axs:\n",
    "    ax.hist2d(ak.flatten(data.ph2_rt[mask] * data.ph2_dphi[mask]).to_numpy(),\n",
    "              ak.flatten(data.ph2_clustSize[mask]).to_numpy(),\n",
    "              norm=mpl.colors.LogNorm(),\n",
    "              bins=bins,\n",
    "              )\n",
    "    ax.set_xlabel(\"r * dphi(hit, sim. hit) [cm]\")\n",
    "    ax.set_ylabel(\"Cluster size\")\n",
    "    ax.set_title(\"Hits with associated sim track\")\n",
    "axs[1].set_xlim([0.001, None])\n",
    "axs[1].semilogx();"
   ]
  },
  {
   "cell_type": "code",
   "execution_count": null,
   "id": "309204f0-5cd2-4655-93b4-bb0fdcda696b",
   "metadata": {},
   "outputs": [],
   "source": [
    "bins = np.arange(0, 250, 5)\n",
    "fig, axs = plt.subplots(ncols=2, figsize=(10, 4))\n",
    "axs[0].hist(ak.flatten(data.ph2_pt), bins=bins)\n",
    "axs[1].hist(ak.flatten(data.ph2_pt[data.ph2_pt > 0.5]), bins=bins)\n",
    "for ax in axs:\n",
    "    ax.set_xlabel(\"$p_{T}$ [GeV]\")\n",
    "    ax.set_ylabel(\"Hits (ph2_*)\")\n",
    "axs[0].set_title(\"All hits\")\n",
    "axs[1].set_title(\"Hits matched to sim. track with $p_{T}$ > 0.5 GeV\");"
   ]
  },
  {
   "cell_type": "markdown",
   "id": "00a3063d-d61b-475c-a3ad-036a43e961f1",
   "metadata": {},
   "source": [
    "## Plotting ph2_clustSize"
   ]
  },
  {
   "cell_type": "code",
   "execution_count": null,
   "id": "ee502ef2-dee8-4f90-a341-2d585af04257",
   "metadata": {},
   "outputs": [],
   "source": [
    "mask = data.ph2_pt > 0.6\n",
    "bins = np.arange(-0.5, 34.5, 1)\n",
    "bin_centers = (bins[:-1] + bins[1:]) / 2.0"
   ]
  },
  {
   "cell_type": "code",
   "execution_count": null,
   "id": "258eeeca-63f6-44a3-a502-bcf4724c17a9",
   "metadata": {},
   "outputs": [],
   "source": [
    "bins = np.arange(-0.5, 34.5, 1)\n",
    "fig, axs = plt.subplots(ncols=2, figsize=(10, 4))\n",
    "for ax in axs:\n",
    "    ax.hist(ak.flatten(data.ph2_clustSize), bins=bins)\n",
    "    ax.set_title(\"All hits\")\n",
    "    ax.set_xlabel(\"Cluster size\")\n",
    "    ax.set_ylabel(\"Hits (ph2_*)\")\n",
    "axs[1].semilogy();"
   ]
  },
  {
   "cell_type": "code",
   "execution_count": null,
   "id": "226bb390-5db0-4e93-82d2-f28f78f3e1e5",
   "metadata": {},
   "outputs": [],
   "source": [
    "bins = np.arange(-0.5, 34.5, 1)\n",
    "fig, axs = plt.subplots(ncols=2, figsize=(10, 4))\n",
    "for ax in axs:\n",
    "    ax.hist(ak.flatten(data.ph2_clustSize[mask]), bins=bins)\n",
    "    ax.set_title(\"Hits matched to sim. track with $p_{T}$ > 0.6 GeV\")\n",
    "    ax.set_xlabel(\"Cluster size\")\n",
    "    ax.set_ylabel(\"Hits (ph2_*)\")\n",
    "#axs[1].set_ylim([1, None])\n",
    "axs[1].semilogy();"
   ]
  },
  {
   "cell_type": "code",
   "execution_count": null,
   "id": "3cb7735b-c71d-4d4f-ba10-c4ae26844def",
   "metadata": {},
   "outputs": [],
   "source": [
    "fig, axs = plt.subplots(ncols=3, figsize=(14, 4))\n",
    "bins = [np.arange(-0.5, 199.5, 4), np.arange(-0.5, 14.5)]\n",
    "for it, ax in enumerate(axs):\n",
    "    _, _, _, im = ax.hist2d(ak.flatten(data.ph2_pt[mask]).to_numpy(),\n",
    "                            ak.flatten(data.ph2_clustSize[mask]).to_numpy(),\n",
    "                            norm=(mpl.colors.LogNorm() if it==2 else None),\n",
    "                            bins=bins, cmin=0.5, cmap=\"inferno\")\n",
    "    ax.set_xlabel(\"Sim. $p_{T}$ [GeV]\")\n",
    "    ax.set_ylabel(\"Cluster size\")\n",
    "axs[1].set_xlim([0.4, None])\n",
    "axs[1].semilogx();"
   ]
  },
  {
   "cell_type": "code",
   "execution_count": null,
   "id": "616cf236-8ae3-4d51-b1bd-f34c8ac045b3",
   "metadata": {},
   "outputs": [],
   "source": [
    "bins = np.arange(-0.5, 34.5, 1)\n",
    "hist, bin_edges = np.histogram(ak.flatten(data.ph2_clustSize[mask]), bins=bins, density=True)\n",
    "bin_centers = (bin_edges[:-1] + bin_edges[1:]) / 2.0\n",
    "\n",
    "cdf = np.cumsum(hist * np.diff(bin_edges))\n",
    "\n",
    "fig, axs = plt.subplots(ncols=2, figsize=(10, 4))\n",
    "fig.subplots_adjust(wspace=0.25)\n",
    "for ax in axs:\n",
    "    ax.plot(bin_centers, cdf, marker=\".\")\n",
    "    ax.set_title(\"Hits matched to sim. track with $p_{T}$ > 0.6 GeV\")\n",
    "    ax.set_xlabel(\"Cluster size\")\n",
    "    ax.set_ylabel(\"CDF\")\n",
    "    ax.grid()\n",
    "axs[1].set_ylim([0.99, 1.0]);"
   ]
  },
  {
   "cell_type": "code",
   "execution_count": null,
   "id": "10b896cf-5141-4e38-9e48-1884a2593121",
   "metadata": {},
   "outputs": [],
   "source": [
    "mask_barrel = (data.ph2_pt > 0.6) & (data.ph2_order == 0)\n",
    "hist, bin_edges = np.histogram(ak.flatten(data.ph2_clustSize[mask_barrel]), bins=bins, density=True)\n",
    "cdf = np.cumsum(hist * np.diff(bin_edges))\n",
    "\n",
    "fig, axs = plt.subplots(ncols=2, figsize=(10, 4))\n",
    "fig.subplots_adjust(wspace=0.25)\n",
    "for ax in axs:\n",
    "    ax.plot(bin_centers, cdf, marker=\".\")\n",
    "    ax.set_title(\"Barrel hits where $p_{T}$ > 0.6 GeV\")\n",
    "    ax.set_xlabel(\"Cluster size\")\n",
    "    ax.set_ylabel(\"CDF\")\n",
    "    ax.grid()\n",
    "axs[1].set_ylim([0.99, 1.0]);"
   ]
  },
  {
   "cell_type": "code",
   "execution_count": null,
   "id": "8ac44965-67f7-4bce-b16e-5d50d2f0e357",
   "metadata": {},
   "outputs": [],
   "source": [
    "mask_endcap = (data.ph2_pt > 0.6) & (data.ph2_order == 1)\n",
    "hist, bin_edges = np.histogram(ak.flatten(data.ph2_clustSize[mask_endcap]), bins=bins, density=True)\n",
    "cdf = np.cumsum(hist * np.diff(bin_edges))\n",
    "\n",
    "fig, axs = plt.subplots(ncols=2, figsize=(10, 4))\n",
    "fig.subplots_adjust(wspace=0.25)\n",
    "for ax in axs:\n",
    "    ax.plot(bin_centers, cdf, marker=\".\")\n",
    "    ax.set_title(\"Endcap hits where $p_{T}$ > 0.6 GeV\")\n",
    "    ax.set_xlabel(\"Cluster size\")\n",
    "    ax.set_ylabel(\"CDF\")\n",
    "    ax.grid()\n",
    "axs[1].set_ylim([0.99, 1.0]);"
   ]
  },
  {
   "cell_type": "code",
   "execution_count": null,
   "id": "edb5a353-03dd-4b9a-a025-c85295f9e6ba",
   "metadata": {},
   "outputs": [],
   "source": [
    "mask_lowpt = (data.ph2_pt > 0.6) & (data.ph2_pt < 2)\n",
    "hist, bin_edges = np.histogram(ak.flatten(data.ph2_clustSize[mask_lowpt]), bins=bins, density=True)\n",
    "cdf = np.cumsum(hist * np.diff(bin_edges))\n",
    "\n",
    "fig, axs = plt.subplots(ncols=2, figsize=(10, 4))\n",
    "fig.subplots_adjust(wspace=0.25)\n",
    "for ax in axs:\n",
    "    ax.plot(bin_centers, cdf, marker=\".\")\n",
    "    ax.set_title(\"Hits where 0.6 < $p_{T}$ < 2 GeV\")\n",
    "    ax.set_xlabel(\"Cluster size\")\n",
    "    ax.set_ylabel(\"CDF\")\n",
    "    ax.grid()\n",
    "axs[1].set_ylim([0.99, 1.0]);"
   ]
  },
  {
   "cell_type": "code",
   "execution_count": null,
   "id": "1bd9269e-9ea2-4012-b230-abab65eab3c8",
   "metadata": {},
   "outputs": [],
   "source": [
    "mask_medpt = (data.ph2_pt > 2) & (data.ph2_pt < 5)\n",
    "hist, bin_edges = np.histogram(ak.flatten(data.ph2_clustSize[mask_medpt]), bins=bins, density=True)\n",
    "cdf = np.cumsum(hist * np.diff(bin_edges))\n",
    "\n",
    "fig, axs = plt.subplots(ncols=2, figsize=(10, 4))\n",
    "fig.subplots_adjust(wspace=0.25)\n",
    "for ax in axs:\n",
    "    ax.plot(bin_centers, cdf, marker=\".\")\n",
    "    ax.set_title(\"Hits where 2 < $p_{T}$ < 5 GeV\")\n",
    "    ax.set_xlabel(\"Cluster size\")\n",
    "    ax.set_ylabel(\"CDF\")\n",
    "    ax.grid()\n",
    "axs[1].set_ylim([0.99, 1.0]);"
   ]
  },
  {
   "cell_type": "code",
   "execution_count": null,
   "id": "1fdc3f88-d8b2-4273-bea3-1fd5343d1f5e",
   "metadata": {},
   "outputs": [],
   "source": [
    "mask_hipt = (data.ph2_pt > 5)\n",
    "hist, bin_edges = np.histogram(ak.flatten(data.ph2_clustSize[mask_hipt]), bins=bins, density=True)\n",
    "cdf = np.cumsum(hist * np.diff(bin_edges))\n",
    "\n",
    "fig, axs = plt.subplots(ncols=2, figsize=(10, 4))\n",
    "fig.subplots_adjust(wspace=0.25)\n",
    "for ax in axs:\n",
    "    ax.plot(bin_centers, cdf, marker=\".\")\n",
    "    ax.set_title(\"Hits where $p_{T}$ > 5 GeV\")\n",
    "    ax.set_xlabel(\"Cluster size\")\n",
    "    ax.set_ylabel(\"CDF\")\n",
    "    ax.grid()\n",
    "axs[1].set_ylim([0.99, 1.0]);"
   ]
  },
  {
   "cell_type": "markdown",
   "id": "bdfba11b-b4c1-42a4-bf64-46078d68578b",
   "metadata": {},
   "source": [
    "## Checking sim_E"
   ]
  },
  {
   "cell_type": "code",
   "execution_count": null,
   "id": "76e73ac9-c8f7-4567-8602-dac2d7bc4551",
   "metadata": {},
   "outputs": [],
   "source": [
    "bins = np.arange(0, 220, 2)\n",
    "fig, ax = plt.subplots()\n",
    "m = 0.1057\n",
    "muon = 13\n",
    "# m2 = E2 - p2 -> E2 = m2 + p2\n",
    "sim_E = np.sqrt(data.sim_px**2 + data.sim_py**2 + data.sim_pz**2 + m**2)\n",
    "ax.hist(ak.flatten(sim_E[np.abs(data.sim_pdgId) == 13]), bins=bins)\n",
    "ax.set_xlabel(\"Muon $E^{2}$ [GeV]\")\n",
    "ax.set_ylabel(\"Number of muons\");"
   ]
  },
  {
   "cell_type": "markdown",
   "id": "4acc80b9-a1a7-46bb-94f7-9f80358be39e",
   "metadata": {},
   "source": [
    "## Checking sim_pdgId"
   ]
  },
  {
   "cell_type": "code",
   "execution_count": null,
   "id": "9390f8b6-7fc2-41cc-9e6c-e4a81e7348d3",
   "metadata": {},
   "outputs": [],
   "source": [
    "bins = np.arange(-220, 220)\n",
    "fig, ax = plt.subplots()\n",
    "ax.hist(ak.flatten(data.sim_pdgId), bins=bins)\n",
    "ax.set_xlabel(\"Sim. PDG ID\")\n",
    "ax.set_ylabel(\"Number of sim. particles\")\n",
    "ax.semilogy()"
   ]
  },
  {
   "cell_type": "markdown",
   "id": "113a2a1c-20a4-4070-9b2c-1f8d98b9c0b6",
   "metadata": {},
   "source": [
    "## Getting sim_p for each simhit"
   ]
  },
  {
   "cell_type": "code",
   "execution_count": null,
   "id": "9873a89b-39f4-499d-956c-a7d4de9b98b2",
   "metadata": {},
   "outputs": [],
   "source": [
    "print(data.simhit_pt[0].type)\n",
    "print(data.simhit_simTrkIdx[0].type)\n",
    "print(data.sim_pt[0].type)\n",
    "print(data.sim_simHitIdx[0].type)\n",
    "print(ak.min(data.simhit_simTrkIdx[0]))\n",
    "print(ak.max(data.simhit_simTrkIdx[0]))\n",
    "print(ak.min(data.sim_simHitIdx[0]))\n",
    "print(ak.max(data.sim_simHitIdx[0]))\n",
    "\n",
    "print(data.simhit_simTrkIdx[0])\n",
    "print(data.sim_pt[0][data.simhit_simTrkIdx[0]])\n",
    "print(data.simhit_pt[0])\n",
    "print(data.simhit_pt[0] - data.sim_pt[0][data.simhit_simTrkIdx[0]])"
   ]
  },
  {
   "cell_type": "code",
   "execution_count": null,
   "id": "fd8a1834-79de-4f9c-9db8-fb4830855538",
   "metadata": {},
   "outputs": [],
   "source": [
    "def fancy_index(data, index):\n",
    "    counts = ak.num(index, axis=-1)\n",
    "    flattened_idx = ak.flatten(index, axis=-1)\n",
    "    out_flat = data[flattened_idx]\n",
    "    out = ak.unflatten(out_flat, counts)\n",
    "    return out\n",
    "\n",
    "# simhit_simTrk_pt = fancy_index(data.sim_pt, data.simhit_simTrkIdx)\n",
    "# print(data.sim_pt[data.simhit_simTrkIdx])\n",
    "# simhit_simTrk_pt = ak.fill_none(simhit_simTrk_pt, 0)\n",
    "simhit_simTrk_pt = data.sim_pt[data.simhit_simTrkIdx]"
   ]
  },
  {
   "cell_type": "code",
   "execution_count": null,
   "id": "c087e4c7-2bef-43a9-b0c0-60e4a1dda5bd",
   "metadata": {},
   "outputs": [],
   "source": [
    "print(data.simhit_simTrkIdx.type)\n",
    "print(data.sim_pt[data.simhit_simTrkIdx].type)\n",
    "print(simhit_simTrk_pt.type)\n",
    "print(data.simhit_pt.type)"
   ]
  },
  {
   "cell_type": "code",
   "execution_count": null,
   "id": "98128913-2325-4639-a98e-fd74e6225b1e",
   "metadata": {},
   "outputs": [],
   "source": [
    "bins = np.arange(-10, 150)\n",
    "fig, ax = plt.subplots(ncols=2, figsize=(10, 4))\n",
    "fig.subplots_adjust(wspace=0.25)\n",
    "\n",
    "ax[0].hist(ak.flatten(simhit_simTrk_pt - data.simhit_pt), bins=bins)\n",
    "ax[0].set_xlabel(\"simhit_simTrk_pt - simhit_pt\")\n",
    "ax[0].set_ylabel(\"simhits\")\n",
    "ax[0].semilogy()\n",
    "\n",
    "ax[1].hist2d(ak.flatten(simhit_simTrk_pt).to_numpy(),\n",
    "             ak.flatten(data.simhit_pt).to_numpy(),\n",
    "             bins=[np.arange(-10, 210), np.arange(-10, 210)], cmin=0.5,\n",
    "             )\n",
    "ax[1].set_xlabel(\"simhit_simTrk_pt\")\n",
    "ax[1].set_ylabel(\"simhit_pt\");"
   ]
  },
  {
   "cell_type": "code",
   "execution_count": null,
   "id": "902a0319-be64-4440-a8c0-6e12e2810fc7",
   "metadata": {},
   "outputs": [],
   "source": []
  }
 ],
 "metadata": {
  "kernelspec": {
   "display_name": "Python 3 (ipykernel)",
   "language": "python",
   "name": "python3"
  },
  "language_info": {
   "codemirror_mode": {
    "name": "ipython",
    "version": 3
   },
   "file_extension": ".py",
   "mimetype": "text/x-python",
   "name": "python",
   "nbconvert_exporter": "python",
   "pygments_lexer": "ipython3",
   "version": "3.13.0"
  }
 },
 "nbformat": 4,
 "nbformat_minor": 5
}
