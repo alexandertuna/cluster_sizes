{
 "cells": [
  {
   "cell_type": "code",
   "execution_count": null,
   "id": "32cb5935-fb75-4879-987a-1fef46c4d827",
   "metadata": {},
   "outputs": [],
   "source": [
    "import math\n",
    "import uproot\n",
    "from pathlib import Path\n",
    "import awkward as ak\n",
    "import numpy as np\n",
    "import matplotlib as mpl\n",
    "import matplotlib.pyplot as plt\n",
    "import tqdm"
   ]
  },
  {
   "cell_type": "markdown",
   "id": "d2c5e02e-2934-4704-a52e-aa91639fcfbf",
   "metadata": {},
   "source": [
    "## Getting the file and tree"
   ]
  },
  {
   "cell_type": "code",
   "execution_count": null,
   "id": "dee76626-7617-4b1d-a4d9-e22f5e187a25",
   "metadata": {},
   "outputs": [],
   "source": [
    "fname = Path(\"/Users/alexandertuna/Downloads/cms/lst_playing/data/trackingNtuple.2025_03_15_03h02m56s.root\")\n",
    "if not fname.exists():\n",
    "    raise Exception(\"shit\")"
   ]
  },
  {
   "cell_type": "code",
   "execution_count": null,
   "id": "2866dd23-be58-4ace-a351-571d9180565b",
   "metadata": {},
   "outputs": [],
   "source": [
    "file = uproot.open(f\"{fname}\")\n",
    "print(file.keys())"
   ]
  },
  {
   "cell_type": "code",
   "execution_count": null,
   "id": "16e848a8-a106-45b8-b140-6297b7289a62",
   "metadata": {},
   "outputs": [],
   "source": [
    "tree = uproot.open(f\"{fname}:trackingNtuple/tree\")\n",
    "print(tree)"
   ]
  },
  {
   "cell_type": "code",
   "execution_count": null,
   "id": "19880872-5e0f-4692-a96a-7393e183b07b",
   "metadata": {},
   "outputs": [],
   "source": [
    "def get_prefixes(col):\n",
    "    return sorted(list(set([obj.split(\"_\")[0] for obj in col])))\n",
    "print(get_prefixes(tree.keys()))"
   ]
  },
  {
   "cell_type": "markdown",
   "id": "d1ea15f8-9112-4de1-89b8-0e92c9caf10f",
   "metadata": {},
   "source": [
    "## Getting branches into a data array"
   ]
  },
  {
   "cell_type": "code",
   "execution_count": null,
   "id": "d5d4a84a-ad6b-4fef-8419-026739a680f6",
   "metadata": {},
   "outputs": [],
   "source": [
    "print(tree.keys())"
   ]
  },
  {
   "cell_type": "code",
   "execution_count": null,
   "id": "93367784-6b4e-405f-996f-8e27f4d9d399",
   "metadata": {},
   "outputs": [],
   "source": [
    "data = tree.arrays([\n",
    "    'trk_pt', 'trk_eta', 'trk_phi',\n",
    "\n",
    "    'ph2_isBarrel', 'ph2_isLower', 'ph2_isUpper', 'ph2_isStack', \n",
    "    'ph2_order', 'ph2_ring', 'ph2_rod', 'ph2_detId', \n",
    "    'ph2_subdet', 'ph2_layer', 'ph2_side', 'ph2_module', \n",
    "    'ph2_moduleType', 'ph2_trkIdx', 'ph2_onTrk_x', 'ph2_onTrk_y', \n",
    "    'ph2_onTrk_z', 'ph2_onTrk_xx', 'ph2_onTrk_xy', 'ph2_onTrk_yy', \n",
    "    'ph2_onTrk_yz', 'ph2_onTrk_zz', 'ph2_onTrk_zx', 'ph2_tcandIdx', \n",
    "    'ph2_seeIdx', 'ph2_simHitIdx', 'ph2_simType', 'ph2_x', 'ph2_y', \n",
    "    'ph2_z', 'ph2_xx', 'ph2_xy', 'ph2_yy', \n",
    "    'ph2_yz', 'ph2_zz', 'ph2_zx', 'ph2_radL', \n",
    "    'ph2_bbxi', 'ph2_usedMask', 'ph2_clustSize',\n",
    "\n",
    "    'simhit_x', 'simhit_y', 'simhit_z',\n",
    "    'simhit_px', 'simhit_py', 'simhit_pz',\n",
    "    'simhit_tof', 'simhit_particle', 'simhit_simTrkIdx', \n",
    "\n",
    "    'sim_event', 'sim_bunchCrossing', 'sim_pdgId',\n",
    "    'sim_genPdgIds', 'sim_isFromBHadron', \n",
    "    'sim_px', 'sim_py', 'sim_pz', \n",
    "    'sim_pt', 'sim_eta', 'sim_phi',\n",
    "    #'sim_pca_pt', 'sim_pca_eta', 'sim_pca_lambda', 'sim_pca_cotTheta', \n",
    "    #'sim_pca_phi', 'sim_pca_dxy', 'sim_pca_dz', 'sim_q', \n",
    "    #'sim_nValid', 'sim_nPixel', 'sim_nStrip', \n",
    "    #'sim_nLay', 'sim_nPixelLay', 'sim_n3DLay', \n",
    "    #'sim_nTrackerHits', 'sim_nRecoClusters', \n",
    "    #'sim_trkIdx', 'sim_trkShareFrac', 'sim_seedIdx', \n",
    "    'sim_parentVtxIdx', 'sim_decayVtxIdx', 'sim_simHitIdx',\n",
    "])\n",
    "data[\"simhit_pt\"] = np.sqrt(data.simhit_px**2 + data.simhit_py**2)\n",
    "data[\"simhit_p\"] = np.sqrt(data.simhit_px**2 + data.simhit_py**2 + data.simhit_pz**2)\n",
    "data[\"simhit_costheta\"] = 0\n",
    "\n",
    "data[\"simhit_rt\"] = np.sqrt(data.simhit_x**2 + data.simhit_y**2)\n",
    "data[\"simhit_costheta\"] = ((data.simhit_x * data.simhit_px) + (data.simhit_y * data.simhit_py)) / (data.simhit_pt * data.simhit_rt)\n",
    "data[\"simhit_phi\"] = np.atan2(data.simhit_y, data.simhit_x)\n",
    "data[\"ph2_phi\"] = np.atan2(data.ph2_y, data.ph2_x)\n",
    "data[\"ph2_rt\"] = np.sqrt(data.ph2_x**2 + data.ph2_y**2)"
   ]
  },
  {
   "cell_type": "markdown",
   "id": "9966de9d-d791-4a68-8223-334b44ddc5be",
   "metadata": {},
   "source": [
    "## Coordinate conversions"
   ]
  },
  {
   "cell_type": "code",
   "execution_count": null,
   "id": "8b04e54e-02ce-4235-be7f-6496ae29f799",
   "metadata": {},
   "outputs": [],
   "source": [
    "def eta(x, y, z):\n",
    "    r_perp = np.sqrt(x**2 + y**2)\n",
    "    theta = np.atan2(r_perp, z)\n",
    "    return -np.log(np.tan(theta / 2.0))\n",
    "\n",
    "def phi(x, y):\n",
    "    return np.atan2(y, x)"
   ]
  },
  {
   "cell_type": "markdown",
   "id": "a2510b33-ab3a-420c-a0a9-04a74aed1d5c",
   "metadata": {},
   "source": [
    "## Fishing around"
   ]
  },
  {
   "cell_type": "code",
   "execution_count": null,
   "id": "1d880be4-f0b6-4b50-adc9-23a4ade8bc24",
   "metadata": {},
   "outputs": [],
   "source": [
    "x = ak.Array([\n",
    "    [0.0, 10.0, 20.0],\n",
    "    [30.0, 40.0, 50.0],\n",
    "])\n",
    "y = ak.Array([\n",
    "    [ [0], [1], [1, 2]],\n",
    "    [ [], [1], [2]],\n",
    "])\n",
    "z = ak.Array([\n",
    "    [ 0, 1, 1],\n",
    "    [ None, 1, 2],\n",
    "])\n",
    "\n",
    "print(x[z])\n",
    "\n",
    "print(ak.firsts(y, axis=-1))\n",
    "print(x[ak.firsts(y, axis=-1)])\n",
    "print(ak.array_equal(x[z], x[ak.firsts(y, axis=-1)]))\n",
    "\n",
    "# print(ak.num(y, axis=-1))\n",
    "\n",
    "def fancy_index(a, b):\n",
    "    ix = ak.flatten(b, axis=-1)\n",
    "    temp = a[ix]\n",
    "    n_items = ak.ravel(ak.num(b, axis=-1))\n",
    "    print(n_items)\n",
    "    return ak.unflatten(temp, n_items, axis=-1)\n",
    "\n",
    "# fancy_index(x, y).show()"
   ]
  },
  {
   "cell_type": "code",
   "execution_count": null,
   "id": "b8f8e510-609d-4c9e-b3af-d1435e6aae33",
   "metadata": {},
   "outputs": [],
   "source": [
    "x == []"
   ]
  },
  {
   "cell_type": "markdown",
   "id": "8a81978e-309f-48f6-bd1f-9e369898a2d0",
   "metadata": {},
   "source": [
    "## Creating more `ph2_*` arrays with truth-matching (vectorized)"
   ]
  },
  {
   "cell_type": "code",
   "execution_count": null,
   "id": "d1ac428a-c742-4fc6-88b9-786cd0c4b55e",
   "metadata": {},
   "outputs": [],
   "source": [
    "def fancy_index(data, index):\n",
    "    counts = ak.num(index, axis=-1)\n",
    "    counts = ak.flatten(counts, axis=-1)\n",
    "    print(\"counts\", counts.type, counts)\n",
    "    flattened_idx = ak.flatten(index, axis=-1)\n",
    "    out_flat = data[flattened_idx]\n",
    "    out = ak.unflatten(out_flat, counts, axis=-1)\n",
    "    return out\n",
    "\n",
    "dne = np.float32(0.0)\n",
    "#data[\"ph2_pt\"]       = ak.fill_none(ak.max(fancy_index(data.simhit_pt,       data.ph2_simHitIdx), axis=-1), dne)\n",
    "#data[\"ph2_simphi\"]   = ak.fill_none(ak.max(fancy_index(data.simhit_phi,      data.ph2_simHitIdx), axis=-1), dne)\n",
    "#data[\"ph2_costheta\"] = ak.fill_none(ak.max(fancy_index(data.simhit_costheta, data.ph2_simHitIdx), axis=-1), dne)\n",
    "#data[\"ph2_nsim\"]     = ak.num(data.ph2_simHitIdx, axis=-1)\n",
    "# ak.max? ak.firsts?\n",
    "\n",
    "#print(data.simhit_phi.type)\n",
    "#print(data.ph2_phi.type)\n",
    "#print(data.ph2_simphi.type)\n",
    "#print()\n",
    "\n",
    "data.simhit_pt[data.ph2_simHitIdx]\n",
    "\n",
    "#\n",
    "# tmp wtf\n",
    "#\n",
    "print(data.ph2_simHitIdx[44])\n",
    "print(data.ph2_simHitIdx[45])\n",
    "print(data.ph2_simHitIdx[46])\n",
    "print(data.ph2_simHitIdx[45].type)\n",
    "print(fancy_index(data.simhit_phi[ [44, 45, 46] ], data.ph2_simHitIdx[ [44, 45, 46] ])[1].type)\n",
    "print(fancy_index(data.simhit_phi[ [44, 45] ], data.ph2_simHitIdx[ [44, 45] ])[1].type)\n"
   ]
  },
  {
   "cell_type": "code",
   "execution_count": null,
   "id": "936b7f6b-7345-46ad-807d-d1a6e6f9153a",
   "metadata": {},
   "outputs": [],
   "source": [
    "def fancy_index(data, index):\n",
    "    counts = ak.num(index, axis=-1)\n",
    "    counts = ak.flatten(counts, axis=-1)\n",
    "    flattened_idx = ak.flatten(index, axis=-1)\n",
    "    out_flat = data[flattened_idx]\n",
    "    out = ak.unflatten(out_flat, counts, axis=-1)\n",
    "    return out\n",
    "\n",
    "track_pt = ak.Array([\n",
    "    [0.0, 10.0, 20.0],\n",
    "    [30.0, 40.0, 50.0],\n",
    "])\n",
    "hit_track_index = ak.Array([\n",
    "    [ [0], [1], [1, 2]],\n",
    "    [ [0], [1], [2]],\n",
    "])\n",
    "\n",
    "#track_pt[hit_track_index]\n",
    "\n",
    "print(\"First attempt\")\n",
    "hit_pt = fancy_index(track_pt, hit_track_index)\n",
    "hit_pt.show()\n",
    "print(\"\")\n",
    "\n",
    "print(\"Second attempt\")\n",
    "hit_track_index = ak.Array([\n",
    "    [ [0], [1], [1, 2] ],\n",
    "    [ [], [1], [2] ],\n",
    "])\n",
    "hit_pt = fancy_index(track_pt, hit_track_index)\n",
    "hit_pt.show()\n",
    "print(\"\")\n",
    "\n",
    "#------\n",
    "\n",
    "def bonk(a, b):\n",
    "    ix = ak.flatten(b, axis=-1)\n",
    "    temp = a[ix]\n",
    "    n_items = ak.ravel(ak.num(b, axis=-1))\n",
    "    return ak.unflatten(temp, n_items, axis=-1)\n",
    "bonk(track_pt, hit_track_index).show()\n"
   ]
  },
  {
   "cell_type": "code",
   "execution_count": null,
   "id": "59ca0369-24ca-4c3e-bb72-46ccc292693f",
   "metadata": {},
   "outputs": [],
   "source": [
    "x = ak.Array([\n",
    "    [0.0, 10.0, 20.0],\n",
    "    [30.0, 40.0, 50.0],\n",
    "])\n",
    "y = ak.Array([\n",
    "    [ [0], [1], [1, 2]],\n",
    "    [ [None], [1], [2]],\n",
    "])\n",
    "\n",
    "def fancy_index(a, b):\n",
    "    ix = ak.flatten(b, axis=-1)\n",
    "    temp = a[ix]\n",
    "    n_items = ak.ravel(ak.num(b, axis=-1))\n",
    "    return ak.unflatten(temp, n_items, axis=-1)\n",
    "\n",
    "z = fancy_index(x, y)\n",
    "z.show()\n",
    "print(ak.max(z, axis=-1))"
   ]
  },
  {
   "cell_type": "code",
   "execution_count": null,
   "id": "8c8b0b4a-fe79-4d55-aef6-883b01945b3d",
   "metadata": {},
   "outputs": [],
   "source": [
    "#\n",
    "# tmp wtf\n",
    "#\n",
    "print(data.ph2_simHitIdx[45])\n",
    "print(data.ph2_simHitIdx[45].type)\n",
    "print(fancy_index(data.simhit_phi, data.ph2_simHitIdx)[45].type)"
   ]
  },
  {
   "cell_type": "markdown",
   "id": "5b019ddd-2efb-43aa-9439-0c1df08e4227",
   "metadata": {},
   "source": [
    "## Comparing semi-vectorized with vectorized"
   ]
  },
  {
   "cell_type": "code",
   "execution_count": null,
   "id": "454c6a25-cfd0-400a-a5f6-644da2f61ca3",
   "metadata": {},
   "outputs": [],
   "source": [
    "def fancy_index(data, index):\n",
    "    counts = ak.num(index, axis=-1)\n",
    "    flattened_idx = ak.flatten(index, axis=-1)\n",
    "    out_flat = data[flattened_idx]\n",
    "    out = ak.unflatten(out_flat, counts)\n",
    "    return out\n",
    "\n",
    "#_pt = []\n",
    "#for event in tqdm.tqdm(range(len(data.ph2_x))):\n",
    "#    _pt.append( fancy_index(data.simhit_pt[event], data.ph2_simHitIdx[event]) )\n",
    "#pt_semi = ak.Array(_pt)\n",
    "\n",
    "# print(fancy_index(data.simhit_phi[ [44, 45, 46] ], data.ph2_simHitIdx[ [44, 45, 46] ])[1].type)\n",
    "\n",
    "def fancy_index_full(data, index):\n",
    "    counts = ak.num(index, axis=-1)\n",
    "    counts = ak.flatten(counts, axis=-1)\n",
    "    flattened_idx = ak.flatten(index, axis=-1)\n",
    "    out_flat = data[flattened_idx]\n",
    "    return ak.unflatten(out_flat, counts, axis=-1)\n",
    "\n",
    "pt_full = np.float64(1.0) * fancy_index_full(data.simhit_pt, data.ph2_simHitIdx)\n",
    "\n",
    "print(pt_semi.type)\n",
    "print(pt_full.type)\n",
    "print(pt_semi[45])\n",
    "print(pt_full[45])\n",
    "print(ak.array_equal(pt_semi[45], pt_full[45]))\n",
    "print(ak.array_equal(pt_semi, pt_full))\n"
   ]
  },
  {
   "cell_type": "code",
   "execution_count": null,
   "id": "b7134961-a7a3-4952-b7bb-94a66d3dd36b",
   "metadata": {},
   "outputs": [],
   "source": [
    "a = ak.Array([\n",
    "    [ [], [1] ],\n",
    "    [ [], [0]  ]\n",
    "])\n",
    "b = ak.Array([\n",
    "    [ [], [1], [] ],\n",
    "    [ [0]  ]\n",
    "])\n",
    "print(ak.array_equal(a, b))\n",
    "ak.__version__\n",
    "\n",
    "a = ak.Array([\n",
    "    [ [], [1] ],\n",
    "    [ [], [0] ]\n",
    "])\n",
    "b = ak.Array([\n",
    "    [ [], [1], [] ],\n",
    "    [ [0] ]\n",
    "])\n",
    "print(ak.num(a))\n",
    "print(ak.num(b))\n",
    "print(ak.array_equal(a, b))\n",
    "print(ak.almost_equal(a, b))\n",
    "print(a + a)\n",
    "print(a + b)"
   ]
  },
  {
   "cell_type": "code",
   "execution_count": null,
   "id": "4505e8e7-66bc-4b2a-bba7-01bf1eb59cf0",
   "metadata": {},
   "outputs": [],
   "source": [
    "a = ak.Array([\n",
    "    [ [], [1] ],\n",
    "    [ [], [0] ]\n",
    "])\n",
    "b = ak.Array([\n",
    "    [ [], [1], [] ],\n",
    "    [ [0] ],\n",
    "    [ [] ]\n",
    "])\n",
    "print(ak.array_equal(a, b))"
   ]
  },
  {
   "cell_type": "markdown",
   "id": "1d73bfe6-5ef0-4677-bc9c-2ecfc9fb0b73",
   "metadata": {},
   "source": [
    "## Making ph2_dphi"
   ]
  },
  {
   "cell_type": "code",
   "execution_count": null,
   "id": "1f86cb58-f016-4e7f-b35f-d586e8d7791e",
   "metadata": {},
   "outputs": [],
   "source": [
    "def dphi(a, b):\n",
    "    return np.abs(((a - b) + np.pi) % (2 * np.pi) - np.pi)\n",
    "    #dab = (a - b) / (2 * np.pi)\n",
    "    #mask = dab > np.pi\n",
    "    #dab[mask] = 2 * np.pi - dab[mask]\n",
    "    #return dab\n",
    "\n",
    "#print(data.ph2_phi.type)\n",
    "#print(data[\"ph2_simphi\"].type)\n",
    "#print(data.ph2_phi + data[\"ph2_simphi\"])\n",
    "print(len(data.ph2_phi))\n",
    "######## print((data.ph2_phi[ range(45) ] - data.ph2_simphi[ range(45) ]).type)\n",
    "print(data.ph2_phi[45].type)\n",
    "print(data.ph2_simphi[45].type)\n",
    "print((data.ph2_phi[45] - data.ph2_simphi[45]).type)\n",
    "    \n",
    "#data[\"ph2_dphi\"] = dphi(data.ph2_phi, data.ph2_simphi)\n",
    "\n",
    "#print(data.ph2_phi)\n",
    "#print(data.ph2_simphi)\n",
    "#print(data.ph2_dphi)"
   ]
  },
  {
   "cell_type": "markdown",
   "id": "26608809-bb56-41b3-9229-c348e1312ab6",
   "metadata": {},
   "source": [
    "## Plotting ph2_pt, ph2_costheta, ph2_dphi, and ph2_nsim"
   ]
  },
  {
   "cell_type": "code",
   "execution_count": null,
   "id": "a9204115-4d78-4bcc-8c3c-74ad7ea25aa4",
   "metadata": {},
   "outputs": [],
   "source": [
    "bins = np.arange(-0.5, 9.5, 1)\n",
    "fig, axs = plt.subplots(ncols=2, figsize=(10, 4))\n",
    "for ax in axs:\n",
    "    ax.hist(ak.flatten(data.ph2_nsim), bins=bins)\n",
    "    ax.set_xlabel(\"N(sim. hit)\")\n",
    "    ax.set_ylabel(\"Hits (ph2_*)\")\n",
    "axs[1].semilogy();"
   ]
  },
  {
   "cell_type": "code",
   "execution_count": null,
   "id": "81423057-f4ad-4399-bcb4-edc764967c45",
   "metadata": {},
   "outputs": [],
   "source": [
    "bins = np.arange(-1, 1.02, 0.02)\n",
    "fig, axs = plt.subplots(ncols=2, figsize=(10, 4))\n",
    "for ax in axs:\n",
    "    ax.hist(ak.flatten(data.ph2_costheta), bins=bins)\n",
    "    ax.set_xlabel(\"cos($\\\\theta$) of $p_{T, sim}$ and $x_{T, sim}$\")\n",
    "    ax.set_ylabel(\"Hits (ph2_*)\")\n",
    "    ax.set_title(\"All hits\")\n",
    "axs[1].semilogy();"
   ]
  },
  {
   "cell_type": "code",
   "execution_count": null,
   "id": "39b6f4c0-2cd6-488c-9eff-1a420f689fb9",
   "metadata": {},
   "outputs": [],
   "source": [
    "bins = np.arange(-1, 1.02, 0.02)\n",
    "fig, axs = plt.subplots(ncols=2, figsize=(10, 4))\n",
    "for ax in axs:\n",
    "    ax.hist(ak.flatten(data.ph2_costheta[data.ph2_pt > 0]), bins=bins)\n",
    "    ax.set_xlabel(\"cos($\\\\phi$) of $p_{T, sim}$ and $x_{T, sim}$\")\n",
    "    ax.set_ylabel(\"Hits (ph2_*)\")\n",
    "    ax.set_title(\"Hits with associated sim track\")\n",
    "axs[1].semilogy();"
   ]
  },
  {
   "cell_type": "code",
   "execution_count": null,
   "id": "6adf063b-e567-4ed3-b962-7872d2ffb0ba",
   "metadata": {},
   "outputs": [],
   "source": [
    "bins = np.arange(0, 3.2, 0.05)\n",
    "fig, axs = plt.subplots(ncols=2, figsize=(10, 4))\n",
    "for ax in axs:\n",
    "    # ax.hist(ak.flatten(data.ph2_dphi[ph2_pt > 0.6]), bins=bins)\n",
    "    ax.hist(ak.flatten(data.ph2_dphi), bins=bins)\n",
    "    ax.set_xlabel(\"dphi(hit, sim. hit) [rad]\")\n",
    "    ax.set_ylabel(\"Hits (ph2_*)\")\n",
    "    # ax.set_title(\"Hits with associated sim track\")\n",
    "    ax.set_title(\"All hits\")\n",
    "axs[1].semilogy();"
   ]
  },
  {
   "cell_type": "code",
   "execution_count": null,
   "id": "496b0f59-592c-4c62-b560-60c067d35f2a",
   "metadata": {},
   "outputs": [],
   "source": [
    "bins = np.arange(0, 3.2, 0.05)\n",
    "mask = (data.ph2_pt > 0.6)\n",
    "fig, axs = plt.subplots(ncols=2, figsize=(10, 4))\n",
    "for ax in axs:\n",
    "    ax.hist(ak.flatten(data.ph2_dphi[mask]), bins=bins)\n",
    "    ax.set_xlabel(\"dphi(hit, sim. hit) [rad]\")\n",
    "    ax.set_ylabel(\"Hits (ph2_*)\")\n",
    "    ax.set_title(\"Hits with associated sim track\")\n",
    "axs[1].semilogy();"
   ]
  },
  {
   "cell_type": "code",
   "execution_count": null,
   "id": "cf800e1e-a197-4fe7-bc80-6c8aa9ef4d6f",
   "metadata": {},
   "outputs": [],
   "source": [
    "bins = np.arange(-0.001, 0.25, 0.001)\n",
    "fig, axs = plt.subplots(ncols=2, figsize=(10, 4))\n",
    "mask = (data.ph2_pt > 0.6)\n",
    "for ax in axs:\n",
    "    ax.hist(ak.flatten(data.ph2_rt[mask] * data.ph2_dphi[mask]), bins=bins)\n",
    "    ax.set_xlabel(\"r * dphi(hit, sim. hit) [cm]\")\n",
    "    ax.set_ylabel(\"Hits (ph2_*)\")\n",
    "    ax.set_title(\"Hits with associated sim track\")\n",
    "axs[1].semilogy();"
   ]
  },
  {
   "cell_type": "code",
   "execution_count": null,
   "id": "26886a08-0ba1-4030-b38f-ebc26993e31f",
   "metadata": {},
   "outputs": [],
   "source": [
    "bins = np.arange(-0.001, 0.03, 0.0001)\n",
    "fig, axs = plt.subplots(ncols=2, figsize=(10, 4))\n",
    "mask = (data.ph2_pt > 0.6)\n",
    "for ax in axs:\n",
    "    ax.hist(ak.flatten(data.ph2_rt[mask] * data.ph2_dphi[mask]), bins=bins)\n",
    "    ax.set_xlabel(\"r * dphi(hit, sim. hit) [cm]\")\n",
    "    ax.set_ylabel(\"Hits (ph2_*)\")\n",
    "    ax.set_title(\"Hits with associated sim track\")\n",
    "axs[1].semilogy();"
   ]
  },
  {
   "cell_type": "code",
   "execution_count": null,
   "id": "139665df-7209-4d87-9e85-b4530db20cdf",
   "metadata": {},
   "outputs": [],
   "source": [
    "# bins = np.arange(-0.001, 0.25, 0.001)\n",
    "bins = [np.arange(-0.001, 0.5, 0.005),\n",
    "        np.arange(-0.5, 19.5, 1)]\n",
    "fig, axs = plt.subplots(ncols=2, figsize=(10, 4))\n",
    "mask = (data.ph2_pt > 0.6)\n",
    "for ax in axs:\n",
    "    ax.hist2d(ak.flatten(data.ph2_rt[mask] * data.ph2_dphi[mask]).to_numpy(),\n",
    "              ak.flatten(data.ph2_clustSize[mask]).to_numpy(),\n",
    "              norm=mpl.colors.LogNorm(),\n",
    "              bins=bins,\n",
    "              )\n",
    "    ax.set_xlabel(\"r * dphi(hit, sim. hit) [cm]\")\n",
    "    ax.set_ylabel(\"Cluster size\")\n",
    "    ax.set_title(\"Hits with associated sim track\")\n",
    "axs[1].set_xlim([0.001, None])\n",
    "axs[1].semilogx();"
   ]
  },
  {
   "cell_type": "code",
   "execution_count": null,
   "id": "309204f0-5cd2-4655-93b4-bb0fdcda696b",
   "metadata": {},
   "outputs": [],
   "source": [
    "bins = np.arange(0, 250, 5)\n",
    "fig, axs = plt.subplots(ncols=2, figsize=(10, 4))\n",
    "axs[0].hist(ak.flatten(data.ph2_pt), bins=bins)\n",
    "axs[1].hist(ak.flatten(data.ph2_pt[data.ph2_pt > 0.5]), bins=bins)\n",
    "for ax in axs:\n",
    "    ax.set_xlabel(\"$p_{T}$ [GeV]\")\n",
    "    ax.set_ylabel(\"Hits (ph2_*)\")\n",
    "axs[0].set_title(\"All hits\")\n",
    "axs[1].set_title(\"Hits matched to sim. track with $p_{T}$ > 0.5 GeV\");"
   ]
  },
  {
   "cell_type": "markdown",
   "id": "00a3063d-d61b-475c-a3ad-036a43e961f1",
   "metadata": {},
   "source": [
    "## Plotting ph2_clustSize"
   ]
  },
  {
   "cell_type": "code",
   "execution_count": null,
   "id": "ee502ef2-dee8-4f90-a341-2d585af04257",
   "metadata": {},
   "outputs": [],
   "source": [
    "mask = data.ph2_pt > 0.6\n",
    "bins = np.arange(-0.5, 34.5, 1)\n",
    "bin_centers = (bins[:-1] + bins[1:]) / 2.0"
   ]
  },
  {
   "cell_type": "code",
   "execution_count": null,
   "id": "258eeeca-63f6-44a3-a502-bcf4724c17a9",
   "metadata": {},
   "outputs": [],
   "source": [
    "bins = np.arange(-0.5, 34.5, 1)\n",
    "fig, axs = plt.subplots(ncols=2, figsize=(10, 4))\n",
    "for ax in axs:\n",
    "    ax.hist(ak.flatten(data.ph2_clustSize), bins=bins)\n",
    "    ax.set_title(\"All hits\")\n",
    "    ax.set_xlabel(\"Cluster size\")\n",
    "    ax.set_ylabel(\"Hits (ph2_*)\")\n",
    "axs[1].semilogy();"
   ]
  },
  {
   "cell_type": "code",
   "execution_count": null,
   "id": "226bb390-5db0-4e93-82d2-f28f78f3e1e5",
   "metadata": {},
   "outputs": [],
   "source": [
    "bins = np.arange(-0.5, 34.5, 1)\n",
    "fig, axs = plt.subplots(ncols=2, figsize=(10, 4))\n",
    "for ax in axs:\n",
    "    ax.hist(ak.flatten(data.ph2_clustSize[mask]), bins=bins)\n",
    "    ax.set_title(\"Hits matched to sim. track with $p_{T}$ > 0.6 GeV\")\n",
    "    ax.set_xlabel(\"Cluster size\")\n",
    "    ax.set_ylabel(\"Hits (ph2_*)\")\n",
    "#axs[1].set_ylim([1, None])\n",
    "axs[1].semilogy();"
   ]
  },
  {
   "cell_type": "code",
   "execution_count": null,
   "id": "3cb7735b-c71d-4d4f-ba10-c4ae26844def",
   "metadata": {},
   "outputs": [],
   "source": [
    "fig, axs = plt.subplots(ncols=3, figsize=(14, 4))\n",
    "bins = [np.arange(-0.5, 199.5, 4), np.arange(-0.5, 14.5)]\n",
    "for it, ax in enumerate(axs):\n",
    "    _, _, _, im = ax.hist2d(ak.flatten(data.ph2_pt[mask]).to_numpy(),\n",
    "                            ak.flatten(data.ph2_clustSize[mask]).to_numpy(),\n",
    "                            norm=(mpl.colors.LogNorm() if it==2 else None),\n",
    "                            bins=bins, cmin=0.5, cmap=\"inferno\")\n",
    "    ax.set_xlabel(\"Sim. $p_{T}$ [GeV]\")\n",
    "    ax.set_ylabel(\"Cluster size\")\n",
    "axs[1].set_xlim([0.4, None])\n",
    "axs[1].semilogx();"
   ]
  },
  {
   "cell_type": "code",
   "execution_count": null,
   "id": "616cf236-8ae3-4d51-b1bd-f34c8ac045b3",
   "metadata": {},
   "outputs": [],
   "source": [
    "bins = np.arange(-0.5, 34.5, 1)\n",
    "hist, bin_edges = np.histogram(ak.flatten(data.ph2_clustSize[mask]), bins=bins, density=True)\n",
    "bin_centers = (bin_edges[:-1] + bin_edges[1:]) / 2.0\n",
    "\n",
    "cdf = np.cumsum(hist * np.diff(bin_edges))\n",
    "\n",
    "fig, axs = plt.subplots(ncols=2, figsize=(10, 4))\n",
    "fig.subplots_adjust(wspace=0.25)\n",
    "for ax in axs:\n",
    "    ax.plot(bin_centers, cdf, marker=\".\")\n",
    "    ax.set_title(\"Hits matched to sim. track with $p_{T}$ > 0.6 GeV\")\n",
    "    ax.set_xlabel(\"Cluster size\")\n",
    "    ax.set_ylabel(\"CDF\")\n",
    "    ax.grid()\n",
    "axs[1].set_ylim([0.99, 1.0]);"
   ]
  },
  {
   "cell_type": "code",
   "execution_count": null,
   "id": "10b896cf-5141-4e38-9e48-1884a2593121",
   "metadata": {},
   "outputs": [],
   "source": [
    "mask_barrel = (data.ph2_pt > 0.6) & (data.ph2_order == 0)\n",
    "hist, bin_edges = np.histogram(ak.flatten(data.ph2_clustSize[mask_barrel]), bins=bins, density=True)\n",
    "cdf = np.cumsum(hist * np.diff(bin_edges))\n",
    "\n",
    "fig, axs = plt.subplots(ncols=2, figsize=(10, 4))\n",
    "fig.subplots_adjust(wspace=0.25)\n",
    "for ax in axs:\n",
    "    ax.plot(bin_centers, cdf, marker=\".\")\n",
    "    ax.set_title(\"Barrel hits where $p_{T}$ > 0.6 GeV\")\n",
    "    ax.set_xlabel(\"Cluster size\")\n",
    "    ax.set_ylabel(\"CDF\")\n",
    "    ax.grid()\n",
    "axs[1].set_ylim([0.99, 1.0]);"
   ]
  },
  {
   "cell_type": "code",
   "execution_count": null,
   "id": "8ac44965-67f7-4bce-b16e-5d50d2f0e357",
   "metadata": {},
   "outputs": [],
   "source": [
    "mask_endcap = (data.ph2_pt > 0.6) & (data.ph2_order == 1)\n",
    "hist, bin_edges = np.histogram(ak.flatten(data.ph2_clustSize[mask_endcap]), bins=bins, density=True)\n",
    "cdf = np.cumsum(hist * np.diff(bin_edges))\n",
    "\n",
    "fig, axs = plt.subplots(ncols=2, figsize=(10, 4))\n",
    "fig.subplots_adjust(wspace=0.25)\n",
    "for ax in axs:\n",
    "    ax.plot(bin_centers, cdf, marker=\".\")\n",
    "    ax.set_title(\"Endcap hits where $p_{T}$ > 0.6 GeV\")\n",
    "    ax.set_xlabel(\"Cluster size\")\n",
    "    ax.set_ylabel(\"CDF\")\n",
    "    ax.grid()\n",
    "axs[1].set_ylim([0.99, 1.0]);"
   ]
  },
  {
   "cell_type": "code",
   "execution_count": null,
   "id": "edb5a353-03dd-4b9a-a025-c85295f9e6ba",
   "metadata": {},
   "outputs": [],
   "source": [
    "mask_lowpt = (data.ph2_pt > 0.6) & (data.ph2_pt < 2)\n",
    "hist, bin_edges = np.histogram(ak.flatten(data.ph2_clustSize[mask_lowpt]), bins=bins, density=True)\n",
    "cdf = np.cumsum(hist * np.diff(bin_edges))\n",
    "\n",
    "fig, axs = plt.subplots(ncols=2, figsize=(10, 4))\n",
    "fig.subplots_adjust(wspace=0.25)\n",
    "for ax in axs:\n",
    "    ax.plot(bin_centers, cdf, marker=\".\")\n",
    "    ax.set_title(\"Hits where 0.6 < $p_{T}$ < 2 GeV\")\n",
    "    ax.set_xlabel(\"Cluster size\")\n",
    "    ax.set_ylabel(\"CDF\")\n",
    "    ax.grid()\n",
    "axs[1].set_ylim([0.99, 1.0]);"
   ]
  },
  {
   "cell_type": "code",
   "execution_count": null,
   "id": "1bd9269e-9ea2-4012-b230-abab65eab3c8",
   "metadata": {},
   "outputs": [],
   "source": [
    "mask_medpt = (data.ph2_pt > 2) & (data.ph2_pt < 5)\n",
    "hist, bin_edges = np.histogram(ak.flatten(data.ph2_clustSize[mask_medpt]), bins=bins, density=True)\n",
    "cdf = np.cumsum(hist * np.diff(bin_edges))\n",
    "\n",
    "fig, axs = plt.subplots(ncols=2, figsize=(10, 4))\n",
    "fig.subplots_adjust(wspace=0.25)\n",
    "for ax in axs:\n",
    "    ax.plot(bin_centers, cdf, marker=\".\")\n",
    "    ax.set_title(\"Hits where 2 < $p_{T}$ < 5 GeV\")\n",
    "    ax.set_xlabel(\"Cluster size\")\n",
    "    ax.set_ylabel(\"CDF\")\n",
    "    ax.grid()\n",
    "axs[1].set_ylim([0.99, 1.0]);"
   ]
  },
  {
   "cell_type": "code",
   "execution_count": null,
   "id": "1fdc3f88-d8b2-4273-bea3-1fd5343d1f5e",
   "metadata": {},
   "outputs": [],
   "source": [
    "mask_hipt = (data.ph2_pt > 5)\n",
    "hist, bin_edges = np.histogram(ak.flatten(data.ph2_clustSize[mask_hipt]), bins=bins, density=True)\n",
    "cdf = np.cumsum(hist * np.diff(bin_edges))\n",
    "\n",
    "fig, axs = plt.subplots(ncols=2, figsize=(10, 4))\n",
    "fig.subplots_adjust(wspace=0.25)\n",
    "for ax in axs:\n",
    "    ax.plot(bin_centers, cdf, marker=\".\")\n",
    "    ax.set_title(\"Hits where $p_{T}$ > 5 GeV\")\n",
    "    ax.set_xlabel(\"Cluster size\")\n",
    "    ax.set_ylabel(\"CDF\")\n",
    "    ax.grid()\n",
    "axs[1].set_ylim([0.99, 1.0]);"
   ]
  },
  {
   "cell_type": "markdown",
   "id": "bdfba11b-b4c1-42a4-bf64-46078d68578b",
   "metadata": {},
   "source": [
    "## Checking sim_E"
   ]
  },
  {
   "cell_type": "code",
   "execution_count": null,
   "id": "76e73ac9-c8f7-4567-8602-dac2d7bc4551",
   "metadata": {},
   "outputs": [],
   "source": [
    "bins = np.arange(0, 220, 2)\n",
    "fig, ax = plt.subplots()\n",
    "m = 0.1057\n",
    "muon = 13\n",
    "# m2 = E2 - p2 -> E2 = m2 + p2\n",
    "sim_E = np.sqrt(data.sim_px**2 + data.sim_py**2 + data.sim_pz**2 + m**2)\n",
    "ax.hist(ak.flatten(sim_E[np.abs(data.sim_pdgId) == 13]), bins=bins)\n",
    "ax.set_xlabel(\"Muon $E^{2}$ [GeV]\")\n",
    "ax.set_ylabel(\"Number of muons\");"
   ]
  },
  {
   "cell_type": "markdown",
   "id": "4acc80b9-a1a7-46bb-94f7-9f80358be39e",
   "metadata": {},
   "source": [
    "## Checking sim_pdgId"
   ]
  },
  {
   "cell_type": "code",
   "execution_count": null,
   "id": "9390f8b6-7fc2-41cc-9e6c-e4a81e7348d3",
   "metadata": {},
   "outputs": [],
   "source": [
    "bins = np.arange(-220, 220)\n",
    "fig, ax = plt.subplots()\n",
    "ax.hist(ak.flatten(data.sim_pdgId), bins=bins)\n",
    "ax.set_xlabel(\"Sim. PDG ID\")\n",
    "ax.set_ylabel(\"Number of sim. particles\")\n",
    "ax.semilogy()"
   ]
  },
  {
   "cell_type": "markdown",
   "id": "113a2a1c-20a4-4070-9b2c-1f8d98b9c0b6",
   "metadata": {},
   "source": [
    "## Getting sim_p for each simhit"
   ]
  },
  {
   "cell_type": "code",
   "execution_count": null,
   "id": "9873a89b-39f4-499d-956c-a7d4de9b98b2",
   "metadata": {},
   "outputs": [],
   "source": [
    "print(data.simhit_pt[0].type)\n",
    "print(data.simhit_simTrkIdx[0].type)\n",
    "print(data.sim_pt[0].type)\n",
    "print(data.sim_simHitIdx[0].type)\n",
    "print(ak.min(data.simhit_simTrkIdx[0]))\n",
    "print(ak.max(data.simhit_simTrkIdx[0]))\n",
    "print(ak.min(data.sim_simHitIdx[0]))\n",
    "print(ak.max(data.sim_simHitIdx[0]))\n",
    "\n",
    "print(data.simhit_simTrkIdx[0])\n",
    "print(data.sim_pt[0][data.simhit_simTrkIdx[0]])\n",
    "print(data.simhit_pt[0])\n",
    "print(data.simhit_pt[0] - data.sim_pt[0][data.simhit_simTrkIdx[0]])"
   ]
  },
  {
   "cell_type": "code",
   "execution_count": null,
   "id": "fd8a1834-79de-4f9c-9db8-fb4830855538",
   "metadata": {},
   "outputs": [],
   "source": [
    "def fancy_index(data, index):\n",
    "    counts = ak.num(index, axis=-1)\n",
    "    flattened_idx = ak.flatten(index, axis=-1)\n",
    "    out_flat = data[flattened_idx]\n",
    "    out = ak.unflatten(out_flat, counts)\n",
    "    return out\n",
    "\n",
    "# simhit_simTrk_pt = fancy_index(data.sim_pt, data.simhit_simTrkIdx)\n",
    "# print(data.sim_pt[data.simhit_simTrkIdx])\n",
    "# simhit_simTrk_pt = ak.fill_none(simhit_simTrk_pt, 0)\n",
    "simhit_simTrk_pt = data.sim_pt[data.simhit_simTrkIdx]"
   ]
  },
  {
   "cell_type": "code",
   "execution_count": null,
   "id": "c087e4c7-2bef-43a9-b0c0-60e4a1dda5bd",
   "metadata": {},
   "outputs": [],
   "source": [
    "print(data.simhit_simTrkIdx.type)\n",
    "print(data.sim_pt[data.simhit_simTrkIdx].type)\n",
    "print(simhit_simTrk_pt.type)\n",
    "print(data.simhit_pt.type)"
   ]
  },
  {
   "cell_type": "code",
   "execution_count": null,
   "id": "98128913-2325-4639-a98e-fd74e6225b1e",
   "metadata": {},
   "outputs": [],
   "source": [
    "bins = np.arange(-10, 150)\n",
    "fig, ax = plt.subplots(ncols=2, figsize=(10, 4))\n",
    "fig.subplots_adjust(wspace=0.25)\n",
    "\n",
    "ax[0].hist(ak.flatten(simhit_simTrk_pt - data.simhit_pt), bins=bins)\n",
    "ax[0].set_xlabel(\"simhit_simTrk_pt - simhit_pt\")\n",
    "ax[0].set_ylabel(\"simhits\")\n",
    "ax[0].semilogy()\n",
    "\n",
    "ax[1].hist2d(ak.flatten(simhit_simTrk_pt).to_numpy(),\n",
    "             ak.flatten(data.simhit_pt).to_numpy(),\n",
    "             bins=[np.arange(-10, 210), np.arange(-10, 210)], cmin=0.5,\n",
    "             )\n",
    "ax[1].set_xlabel(\"simhit_simTrk_pt\")\n",
    "ax[1].set_ylabel(\"simhit_pt\");"
   ]
  },
  {
   "cell_type": "code",
   "execution_count": null,
   "id": "902a0319-be64-4440-a8c0-6e12e2810fc7",
   "metadata": {},
   "outputs": [],
   "source": []
  }
 ],
 "metadata": {
  "kernelspec": {
   "display_name": "Python 3 (ipykernel)",
   "language": "python",
   "name": "python3"
  },
  "language_info": {
   "codemirror_mode": {
    "name": "ipython",
    "version": 3
   },
   "file_extension": ".py",
   "mimetype": "text/x-python",
   "name": "python",
   "nbconvert_exporter": "python",
   "pygments_lexer": "ipython3",
   "version": "3.13.0"
  }
 },
 "nbformat": 4,
 "nbformat_minor": 5
}
