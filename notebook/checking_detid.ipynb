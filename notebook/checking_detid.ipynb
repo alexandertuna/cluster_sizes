{
 "cells": [
  {
   "cell_type": "code",
   "execution_count": 1,
   "id": "32cb5935-fb75-4879-987a-1fef46c4d827",
   "metadata": {},
   "outputs": [],
   "source": [
    "import math\n",
    "import tqdm\n",
    "import uproot\n",
    "from pathlib import Path\n",
    "import awkward as ak\n",
    "import numpy as np\n",
    "import matplotlib as mpl\n",
    "import matplotlib.pyplot as plt\n",
    "mpl.rcParams['font.size'] = 12"
   ]
  },
  {
   "cell_type": "markdown",
   "id": "d2c5e02e-2934-4704-a52e-aa91639fcfbf",
   "metadata": {},
   "source": [
    "## Getting the file and tree"
   ]
  },
  {
   "cell_type": "code",
   "execution_count": 2,
   "id": "dee76626-7617-4b1d-a4d9-e22f5e187a25",
   "metadata": {},
   "outputs": [],
   "source": [
    "fname = Path(\"/Users/alexandertuna/Downloads/cms/lst_playing/data/trackingNtuple.2025_03_21_11h59m00s.10muon_0p5gev_1p5gev.root\")\n",
    "if not fname.exists():\n",
    "    raise Exception(\"shit\")"
   ]
  },
  {
   "cell_type": "code",
   "execution_count": 3,
   "id": "2866dd23-be58-4ace-a351-571d9180565b",
   "metadata": {},
   "outputs": [
    {
     "name": "stdout",
     "output_type": "stream",
     "text": [
      "['trackingNtuple;1', 'trackingNtuple/tree;14', 'trackingNtuple/tree;13']\n"
     ]
    }
   ],
   "source": [
    "file = uproot.open(f\"{fname}\")\n",
    "print(file.keys())"
   ]
  },
  {
   "cell_type": "code",
   "execution_count": 4,
   "id": "16e848a8-a106-45b8-b140-6297b7289a62",
   "metadata": {},
   "outputs": [
    {
     "name": "stdout",
     "output_type": "stream",
     "text": [
      "<TTree 'tree' (360 branches) at 0x0001158c86e0>\n"
     ]
    }
   ],
   "source": [
    "tree = uproot.open(f\"{fname}:trackingNtuple/tree\")\n",
    "print(tree)"
   ]
  },
  {
   "cell_type": "code",
   "execution_count": 5,
   "id": "19880872-5e0f-4692-a96a-7393e183b07b",
   "metadata": {},
   "outputs": [
    {
     "name": "stdout",
     "output_type": "stream",
     "text": [
      "['bsp', 'event', 'inv', 'lumi', 'ph2', 'pix', 'run', 'see', 'sim', 'simhit', 'simpv', 'simvtx', 'tcand', 'trk', 'vtx']\n"
     ]
    }
   ],
   "source": [
    "def get_prefixes(col):\n",
    "    return sorted(list(set([obj.split(\"_\")[0] for obj in col])))\n",
    "print(get_prefixes(tree.keys()))"
   ]
  },
  {
   "cell_type": "markdown",
   "id": "d1ea15f8-9112-4de1-89b8-0e92c9caf10f",
   "metadata": {},
   "source": [
    "## Getting branches into a data array"
   ]
  },
  {
   "cell_type": "code",
   "execution_count": 6,
   "id": "d5d4a84a-ad6b-4fef-8419-026739a680f6",
   "metadata": {},
   "outputs": [
    {
     "name": "stdout",
     "output_type": "stream",
     "text": [
      "['event', 'lumi', 'run', 'trk_px', 'trk_py', 'trk_pz', 'trk_pt', 'trk_inner_px', 'trk_inner_py', 'trk_inner_pz', 'trk_inner_pt', 'trk_outer_px', 'trk_outer_py', 'trk_outer_pz', 'trk_outer_pt', 'trk_eta', 'trk_lambda', 'trk_cotTheta', 'trk_phi', 'trk_dxy', 'trk_dz', 'trk_dxyPV', 'trk_dzPV', 'trk_dxyClosestPV', 'trk_dzClosestPV', 'trk_ptErr', 'trk_etaErr', 'trk_lambdaErr', 'trk_phiErr', 'trk_dxyErr', 'trk_dzErr', 'trk_refpoint_x', 'trk_refpoint_y', 'trk_refpoint_z', 'trk_nChi2', 'trk_nChi2_1Dmod', 'trk_ndof', 'trk_mva', 'trk_qualityMask', 'trk_q', 'trk_nValid', 'trk_nLost', 'trk_nInactive', 'trk_nPixel', 'trk_nStrip', 'trk_nOuterLost', 'trk_nInnerLost', 'trk_nOuterInactive', 'trk_nInnerInactive', 'trk_nPixelLay', 'trk_nStripLay', 'trk_n3DLay', 'trk_nLostLay', 'trk_nCluster', 'trk_algo', 'trk_originalAlgo', 'trk_algoMask', 'trk_stopReason', 'trk_isHP', 'trk_seedIdx', 'trk_vtxIdx', 'trk_simTrkIdx', 'trk_simTrkShareFrac', 'trk_simTrkNChi2', 'trk_bestSimTrkIdx', 'trk_bestFromFirstHitSimTrkIdx', 'trk_bestSimTrkShareFrac', 'trk_bestSimTrkShareFracSimDenom', 'trk_bestSimTrkShareFracSimClusterDenom', 'trk_bestSimTrkNChi2', 'trk_bestFromFirstHitSimTrkShareFrac', 'trk_bestFromFirstHitSimTrkShareFracSimDenom', 'trk_bestFromFirstHitSimTrkShareFracSimClusterDenom', 'trk_bestFromFirstHitSimTrkNChi2', 'trk_hitIdx', 'trk_hitType', 'tcand_pca_valid', 'tcand_pca_px', 'tcand_pca_py', 'tcand_pca_pz', 'tcand_pca_pt', 'tcand_pca_eta', 'tcand_pca_phi', 'tcand_pca_dxy', 'tcand_pca_dz', 'tcand_pca_ptErr', 'tcand_pca_etaErr', 'tcand_pca_lambdaErr', 'tcand_pca_phiErr', 'tcand_pca_dxyErr', 'tcand_pca_dzErr', 'tcand_px', 'tcand_py', 'tcand_pz', 'tcand_pt', 'tcand_x', 'tcand_y', 'tcand_z', 'tcand_qbpErr', 'tcand_lambdaErr', 'tcand_phiErr', 'tcand_xtErr', 'tcand_ytErr', 'tcand_q', 'tcand_ndof', 'tcand_nValid', 'tcand_nPixel', 'tcand_nStrip', 'tcand_nCluster', 'tcand_algo', 'tcand_stopReason', 'tcand_seedIdx', 'tcand_vtxIdx', 'tcand_simTrkIdx', 'tcand_simTrkShareFrac', 'tcand_simTrkNChi2', 'tcand_bestSimTrkIdx', 'tcand_bestFromFirstHitSimTrkIdx', 'tcand_bestSimTrkShareFrac', 'tcand_bestSimTrkShareFracSimDenom', 'tcand_bestSimTrkShareFracSimClusterDenom', 'tcand_bestSimTrkNChi2', 'tcand_bestFromFirstHitSimTrkShareFrac', 'tcand_bestFromFirstHitSimTrkShareFracSimDenom', 'tcand_bestFromFirstHitSimTrkShareFracSimClusterDenom', 'tcand_bestFromFirstHitSimTrkNChi2', 'tcand_hitIdx', 'tcand_hitType', 'sim_event', 'sim_bunchCrossing', 'sim_pdgId', 'sim_genPdgIds', 'sim_isFromBHadron', 'sim_px', 'sim_py', 'sim_pz', 'sim_pt', 'sim_eta', 'sim_phi', 'sim_pca_pt', 'sim_pca_eta', 'sim_pca_lambda', 'sim_pca_cotTheta', 'sim_pca_phi', 'sim_pca_dxy', 'sim_pca_dz', 'sim_q', 'sim_nValid', 'sim_nPixel', 'sim_nStrip', 'sim_nLay', 'sim_nPixelLay', 'sim_n3DLay', 'sim_nTrackerHits', 'sim_nRecoClusters', 'sim_trkIdx', 'sim_trkShareFrac', 'sim_seedIdx', 'sim_parentVtxIdx', 'sim_decayVtxIdx', 'sim_simHitIdx', 'pix_isBarrel', 'pix_ladder', 'pix_blade', 'pix_panel', 'pix_detId', 'pix_subdet', 'pix_layer', 'pix_side', 'pix_module', 'pix_moduleType', 'pix_trkIdx', 'pix_onTrk_x', 'pix_onTrk_y', 'pix_onTrk_z', 'pix_onTrk_xx', 'pix_onTrk_xy', 'pix_onTrk_yy', 'pix_onTrk_yz', 'pix_onTrk_zz', 'pix_onTrk_zx', 'pix_tcandIdx', 'pix_seeIdx', 'pix_simHitIdx', 'pix_chargeFraction', 'pix_simType', 'pix_x', 'pix_y', 'pix_z', 'pix_xx', 'pix_xy', 'pix_yy', 'pix_yz', 'pix_zz', 'pix_zx', 'pix_radL', 'pix_bbxi', 'pix_clustSizeCol', 'pix_clustSizeRow', 'pix_usedMask', 'ph2_isBarrel', 'ph2_isLower', 'ph2_isUpper', 'ph2_isStack', 'ph2_order', 'ph2_ring', 'ph2_rod', 'ph2_detId', 'ph2_subdet', 'ph2_layer', 'ph2_side', 'ph2_module', 'ph2_moduleType', 'ph2_trkIdx', 'ph2_onTrk_x', 'ph2_onTrk_y', 'ph2_onTrk_z', 'ph2_onTrk_xx', 'ph2_onTrk_xy', 'ph2_onTrk_yy', 'ph2_onTrk_yz', 'ph2_onTrk_zz', 'ph2_onTrk_zx', 'ph2_tcandIdx', 'ph2_seeIdx', 'ph2_simHitIdx', 'ph2_simType', 'ph2_x', 'ph2_y', 'ph2_z', 'ph2_xx', 'ph2_xy', 'ph2_yy', 'ph2_yz', 'ph2_zz', 'ph2_zx', 'ph2_radL', 'ph2_bbxi', 'ph2_usedMask', 'ph2_clustSize', 'inv_isBarrel', 'inv_isLower', 'inv_isUpper', 'inv_isStack', 'inv_order', 'inv_ring', 'inv_rod', 'inv_ladder', 'inv_blade', 'inv_panel', 'inv_detId', 'inv_subdet', 'inv_layer', 'inv_side', 'inv_module', 'inv_moduleType', 'inv_type', 'simhit_isLower', 'simhit_isUpper', 'simhit_isStack', 'simhit_order', 'simhit_ring', 'simhit_rod', 'simhit_ladder', 'simhit_blade', 'simhit_panel', 'simhit_detId', 'simhit_subdet', 'simhit_layer', 'simhit_side', 'simhit_module', 'simhit_moduleType', 'simhit_x', 'simhit_y', 'simhit_z', 'simhit_px', 'simhit_py', 'simhit_pz', 'simhit_particle', 'simhit_process', 'simhit_eloss', 'simhit_tof', 'simhit_simTrkIdx', 'simhit_hitIdx', 'simhit_hitType', 'bsp_x', 'bsp_y', 'bsp_z', 'bsp_sigmax', 'bsp_sigmay', 'bsp_sigmaz', 'see_fitok', 'see_px', 'see_py', 'see_pz', 'see_pt', 'see_eta', 'see_phi', 'see_dxy', 'see_dz', 'see_ptErr', 'see_etaErr', 'see_phiErr', 'see_dxyErr', 'see_dzErr', 'see_chi2', 'see_statePt', 'see_stateTrajX', 'see_stateTrajY', 'see_stateTrajPx', 'see_stateTrajPy', 'see_stateTrajPz', 'see_stateTrajGlbX', 'see_stateTrajGlbY', 'see_stateTrajGlbZ', 'see_stateTrajGlbPx', 'see_stateTrajGlbPy', 'see_stateTrajGlbPz', 'see_stateCurvCov', 'see_q', 'see_nValid', 'see_nPixel', 'see_nGlued', 'see_nStrip', 'see_nPhase2OT', 'see_nCluster', 'see_algo', 'see_stopReason', 'see_nCands', 'see_trkIdx', 'see_tcandIdx', 'see_simTrkIdx', 'see_simTrkShareFrac', 'see_bestSimTrkIdx', 'see_bestFromFirstHitSimTrkIdx', 'see_bestSimTrkShareFrac', 'see_bestFromFirstHitSimTrkShareFrac', 'see_hitIdx', 'see_hitType', 'see_offset', 'vtx_x', 'vtx_y', 'vtx_z', 'vtx_xErr', 'vtx_yErr', 'vtx_zErr', 'vtx_ndof', 'vtx_chi2', 'vtx_fake', 'vtx_valid', 'vtx_trkIdx', 'simvtx_event', 'simvtx_bunchCrossing', 'simvtx_processType', 'simvtx_x', 'simvtx_y', 'simvtx_z', 'simvtx_sourceSimIdx', 'simvtx_daughterSimIdx', 'simpv_idx']\n"
     ]
    }
   ],
   "source": [
    "print(tree.keys())"
   ]
  },
  {
   "cell_type": "code",
   "execution_count": 7,
   "id": "93367784-6b4e-405f-996f-8e27f4d9d399",
   "metadata": {},
   "outputs": [],
   "source": [
    "data = tree.arrays([\n",
    "    'ph2_x', 'ph2_y', 'ph2_z',\n",
    "    'ph2_order', 'ph2_side', 'ph2_layer',\n",
    "    'ph2_rod', 'ph2_module', 'ph2_isStack',\n",
    "    'ph2_isUpper', 'ph2_isLower', 'ph2_detId',\n",
    "    'ph2_subdet', 'ph2_moduleType', 'ph2_ring',\n",
    "\n",
    "    \n",
    "    'simhit_x', 'simhit_y', 'simhit_z',\n",
    "    'simhit_px', 'simhit_py', 'simhit_pz',\n",
    "    'simhit_tof', 'simhit_particle', 'simhit_simTrkIdx', \n",
    "    'simhit_order', 'simhit_side', 'simhit_layer',\n",
    "    'simhit_ring', 'simhit_subdet', 'simhit_moduleType',\n",
    "    'simhit_rod', 'simhit_module', 'simhit_isStack',\n",
    "    'simhit_ladder', 'simhit_blade', 'simhit_panel',\n",
    "    'simhit_isUpper', 'simhit_isLower', 'simhit_detId',\n",
    "])"
   ]
  },
  {
   "cell_type": "markdown",
   "id": "51cb8051-9073-4bcb-9abd-af31df456210",
   "metadata": {},
   "source": [
    "## Compare equivalence of detid with individual variables"
   ]
  },
  {
   "cell_type": "code",
   "execution_count": 8,
   "id": "6eed7f9c-ce39-471a-b1e3-6c8270f7a3ce",
   "metadata": {},
   "outputs": [
    {
     "name": "stderr",
     "output_type": "stream",
     "text": [
      "100%|█████████████████████████████████████████████████████████████████████████████████████████████████████| 1172838/1172838 [15:34<00:00, 1254.88it/s]"
     ]
    },
    {
     "name": "stdout",
     "output_type": "stream",
     "text": [
      "All equal!\n"
     ]
    },
    {
     "name": "stderr",
     "output_type": "stream",
     "text": [
      "\n"
     ]
    }
   ],
   "source": [
    "reco = \"ph2\"\n",
    "detids      = ak.flatten(data[f\"{reco}_detId\"]).to_numpy()\n",
    "orders      = ak.flatten(data[f\"{reco}_order\"]).to_numpy()\n",
    "sides       = ak.flatten(data[f\"{reco}_side\"]).to_numpy()\n",
    "layers      = ak.flatten(data[f\"{reco}_layer\"]).to_numpy()\n",
    "rods        = ak.flatten(data[f\"{reco}_rod\"]).to_numpy()\n",
    "modules     = ak.flatten(data[f\"{reco}_module\"]).to_numpy()\n",
    "rings       = ak.flatten(data[f\"{reco}_ring\"]).to_numpy()\n",
    "isUppers    = ak.flatten(data[f\"{reco}_isUpper\"]).to_numpy()\n",
    "isLowers    = ak.flatten(data[f\"{reco}_isLower\"]).to_numpy()\n",
    "isStacks    = ak.flatten(data[f\"{reco}_isStack\"]).to_numpy()\n",
    "moduleTypes = ak.flatten(data[f\"{reco}_moduleType\"]).to_numpy()\n",
    "subdets     = ak.flatten(data[f\"{reco}_subdet\"]).to_numpy()\n",
    "\n",
    "\n",
    "for hit in tqdm.tqdm(range(len(detids))):\n",
    "    mask_detid = detids[hit] == detids\n",
    "    mask_other = \\\n",
    "      (orders[hit]   == orders) & \\\n",
    "      (sides[hit]    == sides) & \\\n",
    "      (layers[hit]   == layers) & \\\n",
    "      (rods[hit]     == rods) & \\\n",
    "      (modules[hit]  == modules) & \\\n",
    "      (rings[hit]    == rings) & \\\n",
    "      (isUppers[hit] == isUppers) & \\\n",
    "      (isLowers[hit] == isLowers) & \\\n",
    "      (isStacks[hit] == isStacks)\n",
    "\n",
    "    if not np.array_equal(mask_detid, mask_other):\n",
    "        print(f\"Not equal! hit {hit}\")\n",
    "        break\n",
    "\n",
    "else:\n",
    "    print(\"All equal!\")"
   ]
  },
  {
   "cell_type": "code",
   "execution_count": null,
   "id": "9e438392-24da-4482-a831-c812cd2fce4e",
   "metadata": {},
   "outputs": [],
   "source": []
  }
 ],
 "metadata": {
  "kernelspec": {
   "display_name": "Python 3 (ipykernel)",
   "language": "python",
   "name": "python3"
  },
  "language_info": {
   "codemirror_mode": {
    "name": "ipython",
    "version": 3
   },
   "file_extension": ".py",
   "mimetype": "text/x-python",
   "name": "python",
   "nbconvert_exporter": "python",
   "pygments_lexer": "ipython3",
   "version": "3.13.0"
  }
 },
 "nbformat": 4,
 "nbformat_minor": 5
}
